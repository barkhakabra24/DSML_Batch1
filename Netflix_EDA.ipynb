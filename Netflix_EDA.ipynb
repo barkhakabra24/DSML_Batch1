{
  "cells": [
    {
      "cell_type": "markdown",
      "metadata": {
        "id": "view-in-github",
        "colab_type": "text"
      },
      "source": [
        "<a href=\"https://colab.research.google.com/github/barkhakabra24/DSML_Batch1/blob/main/Netflix_EDA.ipynb\" target=\"_parent\"><img src=\"https://colab.research.google.com/assets/colab-badge.svg\" alt=\"Open In Colab\"/></a>"
      ]
    },
    {
      "cell_type": "code",
      "execution_count": 1,
      "id": "1c3b59dc",
      "metadata": {
        "id": "1c3b59dc"
      },
      "outputs": [],
      "source": [
        "# Importing the Libraries\n",
        "import pandas as pd\n",
        "import numpy as np\n",
        "import matplotlib.pyplot as plt\n",
        "import seaborn as sns"
      ]
    },
    {
      "cell_type": "code",
      "execution_count": 2,
      "id": "a76b2185",
      "metadata": {
        "id": "a76b2185"
      },
      "outputs": [],
      "source": [
        "sns.set_palette(sns.color_palette(\"BuGn_r\", 1))"
      ]
    },
    {
      "cell_type": "code",
      "execution_count": 3,
      "id": "a40eb5bf",
      "metadata": {
        "id": "a40eb5bf"
      },
      "outputs": [],
      "source": [
        "# Reading the csv file\n",
        "dataset = pd.read_csv(\"netflix.csv\")"
      ]
    },
    {
      "cell_type": "code",
      "execution_count": 4,
      "id": "071ff94c",
      "metadata": {
        "colab": {
          "base_uri": "https://localhost:8080/",
          "height": 476
        },
        "id": "071ff94c",
        "outputId": "86ac4503-366d-43e1-f836-cd46d21fe348"
      },
      "outputs": [
        {
          "output_type": "execute_result",
          "data": {
            "text/plain": [
              "  show_id     type                  title         director  \\\n",
              "0      s1    Movie   Dick Johnson Is Dead  Kirsten Johnson   \n",
              "1      s2  TV Show          Blood & Water              NaN   \n",
              "2      s3  TV Show              Ganglands  Julien Leclercq   \n",
              "3      s4  TV Show  Jailbirds New Orleans              NaN   \n",
              "4      s5  TV Show           Kota Factory              NaN   \n",
              "\n",
              "                                                cast        country  \\\n",
              "0                                                NaN  United States   \n",
              "1  Ama Qamata, Khosi Ngema, Gail Mabalane, Thaban...   South Africa   \n",
              "2  Sami Bouajila, Tracy Gotoas, Samuel Jouy, Nabi...            NaN   \n",
              "3                                                NaN            NaN   \n",
              "4  Mayur More, Jitendra Kumar, Ranjan Raj, Alam K...          India   \n",
              "\n",
              "           date_added  release_year rating   duration  \\\n",
              "0  September 25, 2021          2020  PG-13     90 min   \n",
              "1  September 24, 2021          2021  TV-MA  2 Seasons   \n",
              "2  September 24, 2021          2021  TV-MA   1 Season   \n",
              "3  September 24, 2021          2021  TV-MA   1 Season   \n",
              "4  September 24, 2021          2021  TV-MA  2 Seasons   \n",
              "\n",
              "                                           listed_in  \\\n",
              "0                                      Documentaries   \n",
              "1    International TV Shows, TV Dramas, TV Mysteries   \n",
              "2  Crime TV Shows, International TV Shows, TV Act...   \n",
              "3                             Docuseries, Reality TV   \n",
              "4  International TV Shows, Romantic TV Shows, TV ...   \n",
              "\n",
              "                                         description  \n",
              "0  As her father nears the end of his life, filmm...  \n",
              "1  After crossing paths at a party, a Cape Town t...  \n",
              "2  To protect his family from a powerful drug lor...  \n",
              "3  Feuds, flirtations and toilet talk go down amo...  \n",
              "4  In a city of coaching centers known to train I...  "
            ],
            "text/html": [
              "\n",
              "  <div id=\"df-8d5fc420-e421-46de-8916-940e84aea829\">\n",
              "    <div class=\"colab-df-container\">\n",
              "      <div>\n",
              "<style scoped>\n",
              "    .dataframe tbody tr th:only-of-type {\n",
              "        vertical-align: middle;\n",
              "    }\n",
              "\n",
              "    .dataframe tbody tr th {\n",
              "        vertical-align: top;\n",
              "    }\n",
              "\n",
              "    .dataframe thead th {\n",
              "        text-align: right;\n",
              "    }\n",
              "</style>\n",
              "<table border=\"1\" class=\"dataframe\">\n",
              "  <thead>\n",
              "    <tr style=\"text-align: right;\">\n",
              "      <th></th>\n",
              "      <th>show_id</th>\n",
              "      <th>type</th>\n",
              "      <th>title</th>\n",
              "      <th>director</th>\n",
              "      <th>cast</th>\n",
              "      <th>country</th>\n",
              "      <th>date_added</th>\n",
              "      <th>release_year</th>\n",
              "      <th>rating</th>\n",
              "      <th>duration</th>\n",
              "      <th>listed_in</th>\n",
              "      <th>description</th>\n",
              "    </tr>\n",
              "  </thead>\n",
              "  <tbody>\n",
              "    <tr>\n",
              "      <th>0</th>\n",
              "      <td>s1</td>\n",
              "      <td>Movie</td>\n",
              "      <td>Dick Johnson Is Dead</td>\n",
              "      <td>Kirsten Johnson</td>\n",
              "      <td>NaN</td>\n",
              "      <td>United States</td>\n",
              "      <td>September 25, 2021</td>\n",
              "      <td>2020</td>\n",
              "      <td>PG-13</td>\n",
              "      <td>90 min</td>\n",
              "      <td>Documentaries</td>\n",
              "      <td>As her father nears the end of his life, filmm...</td>\n",
              "    </tr>\n",
              "    <tr>\n",
              "      <th>1</th>\n",
              "      <td>s2</td>\n",
              "      <td>TV Show</td>\n",
              "      <td>Blood &amp; Water</td>\n",
              "      <td>NaN</td>\n",
              "      <td>Ama Qamata, Khosi Ngema, Gail Mabalane, Thaban...</td>\n",
              "      <td>South Africa</td>\n",
              "      <td>September 24, 2021</td>\n",
              "      <td>2021</td>\n",
              "      <td>TV-MA</td>\n",
              "      <td>2 Seasons</td>\n",
              "      <td>International TV Shows, TV Dramas, TV Mysteries</td>\n",
              "      <td>After crossing paths at a party, a Cape Town t...</td>\n",
              "    </tr>\n",
              "    <tr>\n",
              "      <th>2</th>\n",
              "      <td>s3</td>\n",
              "      <td>TV Show</td>\n",
              "      <td>Ganglands</td>\n",
              "      <td>Julien Leclercq</td>\n",
              "      <td>Sami Bouajila, Tracy Gotoas, Samuel Jouy, Nabi...</td>\n",
              "      <td>NaN</td>\n",
              "      <td>September 24, 2021</td>\n",
              "      <td>2021</td>\n",
              "      <td>TV-MA</td>\n",
              "      <td>1 Season</td>\n",
              "      <td>Crime TV Shows, International TV Shows, TV Act...</td>\n",
              "      <td>To protect his family from a powerful drug lor...</td>\n",
              "    </tr>\n",
              "    <tr>\n",
              "      <th>3</th>\n",
              "      <td>s4</td>\n",
              "      <td>TV Show</td>\n",
              "      <td>Jailbirds New Orleans</td>\n",
              "      <td>NaN</td>\n",
              "      <td>NaN</td>\n",
              "      <td>NaN</td>\n",
              "      <td>September 24, 2021</td>\n",
              "      <td>2021</td>\n",
              "      <td>TV-MA</td>\n",
              "      <td>1 Season</td>\n",
              "      <td>Docuseries, Reality TV</td>\n",
              "      <td>Feuds, flirtations and toilet talk go down amo...</td>\n",
              "    </tr>\n",
              "    <tr>\n",
              "      <th>4</th>\n",
              "      <td>s5</td>\n",
              "      <td>TV Show</td>\n",
              "      <td>Kota Factory</td>\n",
              "      <td>NaN</td>\n",
              "      <td>Mayur More, Jitendra Kumar, Ranjan Raj, Alam K...</td>\n",
              "      <td>India</td>\n",
              "      <td>September 24, 2021</td>\n",
              "      <td>2021</td>\n",
              "      <td>TV-MA</td>\n",
              "      <td>2 Seasons</td>\n",
              "      <td>International TV Shows, Romantic TV Shows, TV ...</td>\n",
              "      <td>In a city of coaching centers known to train I...</td>\n",
              "    </tr>\n",
              "  </tbody>\n",
              "</table>\n",
              "</div>\n",
              "      <button class=\"colab-df-convert\" onclick=\"convertToInteractive('df-8d5fc420-e421-46de-8916-940e84aea829')\"\n",
              "              title=\"Convert this dataframe to an interactive table.\"\n",
              "              style=\"display:none;\">\n",
              "        \n",
              "  <svg xmlns=\"http://www.w3.org/2000/svg\" height=\"24px\"viewBox=\"0 0 24 24\"\n",
              "       width=\"24px\">\n",
              "    <path d=\"M0 0h24v24H0V0z\" fill=\"none\"/>\n",
              "    <path d=\"M18.56 5.44l.94 2.06.94-2.06 2.06-.94-2.06-.94-.94-2.06-.94 2.06-2.06.94zm-11 1L8.5 8.5l.94-2.06 2.06-.94-2.06-.94L8.5 2.5l-.94 2.06-2.06.94zm10 10l.94 2.06.94-2.06 2.06-.94-2.06-.94-.94-2.06-.94 2.06-2.06.94z\"/><path d=\"M17.41 7.96l-1.37-1.37c-.4-.4-.92-.59-1.43-.59-.52 0-1.04.2-1.43.59L10.3 9.45l-7.72 7.72c-.78.78-.78 2.05 0 2.83L4 21.41c.39.39.9.59 1.41.59.51 0 1.02-.2 1.41-.59l7.78-7.78 2.81-2.81c.8-.78.8-2.07 0-2.86zM5.41 20L4 18.59l7.72-7.72 1.47 1.35L5.41 20z\"/>\n",
              "  </svg>\n",
              "      </button>\n",
              "      \n",
              "  <style>\n",
              "    .colab-df-container {\n",
              "      display:flex;\n",
              "      flex-wrap:wrap;\n",
              "      gap: 12px;\n",
              "    }\n",
              "\n",
              "    .colab-df-convert {\n",
              "      background-color: #E8F0FE;\n",
              "      border: none;\n",
              "      border-radius: 50%;\n",
              "      cursor: pointer;\n",
              "      display: none;\n",
              "      fill: #1967D2;\n",
              "      height: 32px;\n",
              "      padding: 0 0 0 0;\n",
              "      width: 32px;\n",
              "    }\n",
              "\n",
              "    .colab-df-convert:hover {\n",
              "      background-color: #E2EBFA;\n",
              "      box-shadow: 0px 1px 2px rgba(60, 64, 67, 0.3), 0px 1px 3px 1px rgba(60, 64, 67, 0.15);\n",
              "      fill: #174EA6;\n",
              "    }\n",
              "\n",
              "    [theme=dark] .colab-df-convert {\n",
              "      background-color: #3B4455;\n",
              "      fill: #D2E3FC;\n",
              "    }\n",
              "\n",
              "    [theme=dark] .colab-df-convert:hover {\n",
              "      background-color: #434B5C;\n",
              "      box-shadow: 0px 1px 3px 1px rgba(0, 0, 0, 0.15);\n",
              "      filter: drop-shadow(0px 1px 2px rgba(0, 0, 0, 0.3));\n",
              "      fill: #FFFFFF;\n",
              "    }\n",
              "  </style>\n",
              "\n",
              "      <script>\n",
              "        const buttonEl =\n",
              "          document.querySelector('#df-8d5fc420-e421-46de-8916-940e84aea829 button.colab-df-convert');\n",
              "        buttonEl.style.display =\n",
              "          google.colab.kernel.accessAllowed ? 'block' : 'none';\n",
              "\n",
              "        async function convertToInteractive(key) {\n",
              "          const element = document.querySelector('#df-8d5fc420-e421-46de-8916-940e84aea829');\n",
              "          const dataTable =\n",
              "            await google.colab.kernel.invokeFunction('convertToInteractive',\n",
              "                                                     [key], {});\n",
              "          if (!dataTable) return;\n",
              "\n",
              "          const docLinkHtml = 'Like what you see? Visit the ' +\n",
              "            '<a target=\"_blank\" href=https://colab.research.google.com/notebooks/data_table.ipynb>data table notebook</a>'\n",
              "            + ' to learn more about interactive tables.';\n",
              "          element.innerHTML = '';\n",
              "          dataTable['output_type'] = 'display_data';\n",
              "          await google.colab.output.renderOutput(dataTable, element);\n",
              "          const docLink = document.createElement('div');\n",
              "          docLink.innerHTML = docLinkHtml;\n",
              "          element.appendChild(docLink);\n",
              "        }\n",
              "      </script>\n",
              "    </div>\n",
              "  </div>\n",
              "  "
            ]
          },
          "metadata": {},
          "execution_count": 4
        }
      ],
      "source": [
        "dataset.head()"
      ]
    },
    {
      "cell_type": "code",
      "execution_count": 5,
      "id": "c32c31a1",
      "metadata": {
        "colab": {
          "base_uri": "https://localhost:8080/"
        },
        "id": "c32c31a1",
        "outputId": "8fb8cffd-1e58-423e-b409-3b4c6ba4d7d3"
      },
      "outputs": [
        {
          "output_type": "stream",
          "name": "stdout",
          "text": [
            "<class 'pandas.core.frame.DataFrame'>\n",
            "RangeIndex: 8807 entries, 0 to 8806\n",
            "Data columns (total 12 columns):\n",
            " #   Column        Non-Null Count  Dtype \n",
            "---  ------        --------------  ----- \n",
            " 0   show_id       8807 non-null   object\n",
            " 1   type          8807 non-null   object\n",
            " 2   title         8807 non-null   object\n",
            " 3   director      6173 non-null   object\n",
            " 4   cast          7982 non-null   object\n",
            " 5   country       7976 non-null   object\n",
            " 6   date_added    8797 non-null   object\n",
            " 7   release_year  8807 non-null   int64 \n",
            " 8   rating        8803 non-null   object\n",
            " 9   duration      8804 non-null   object\n",
            " 10  listed_in     8807 non-null   object\n",
            " 11  description   8807 non-null   object\n",
            "dtypes: int64(1), object(11)\n",
            "memory usage: 825.8+ KB\n"
          ]
        }
      ],
      "source": [
        "dataset.info()\n",
        "#  We can observe a lot of null values for columns like director,cast,country etc"
      ]
    },
    {
      "cell_type": "code",
      "execution_count": 6,
      "id": "8ea99853",
      "metadata": {
        "scrolled": true,
        "colab": {
          "base_uri": "https://localhost:8080/"
        },
        "id": "8ea99853",
        "outputId": "3d3aa110-dc0f-4440-88a3-319abcd43e57"
      },
      "outputs": [
        {
          "output_type": "execute_result",
          "data": {
            "text/plain": [
              "(8807, 12)"
            ]
          },
          "metadata": {},
          "execution_count": 6
        }
      ],
      "source": [
        "# CHeck the number of rows and columns\n",
        "dataset.shape"
      ]
    },
    {
      "cell_type": "markdown",
      "id": "78d9decf",
      "metadata": {
        "id": "78d9decf"
      },
      "source": [
        "### TV Shows vs Movies "
      ]
    },
    {
      "cell_type": "code",
      "execution_count": 7,
      "id": "b8504209",
      "metadata": {
        "colab": {
          "base_uri": "https://localhost:8080/",
          "height": 279
        },
        "id": "b8504209",
        "outputId": "d3356a83-ae75-4ad9-d672-5a322162d014"
      },
      "outputs": [
        {
          "output_type": "display_data",
          "data": {
            "text/plain": [
              "<Figure size 432x288 with 1 Axes>"
            ],
            "image/png": "[encoded data removed]"
          },
          "metadata": {
            "needs_background": "light"
          }
        }
      ],
      "source": [
        "# Comparing the Tv vs Movies\n",
        "sns.countplot(data=dataset, x=\"type\")\n",
        "plt.show()"
      ]
    },
    {
      "cell_type": "code",
      "execution_count": 8,
      "id": "78bed632",
      "metadata": {
        "colab": {
          "base_uri": "https://localhost:8080/"
        },
        "id": "78bed632",
        "outputId": "230b306c-eb4f-4caf-fa21-0b855a0dfe3e"
      },
      "outputs": [
        {
          "output_type": "execute_result",
          "data": {
            "text/plain": [
              "Movie      6131\n",
              "TV Show    2676\n",
              "Name: type, dtype: int64"
            ]
          },
          "metadata": {},
          "execution_count": 8
        }
      ],
      "source": [
        "dataset['type'].value_counts()"
      ]
    },
    {
      "cell_type": "code",
      "execution_count": 9,
      "id": "81df9136",
      "metadata": {
        "colab": {
          "base_uri": "https://localhost:8080/",
          "height": 350
        },
        "id": "81df9136",
        "outputId": "cbda7a3b-52c0-4a6f-9fd5-5a56f187ac90"
      },
      "outputs": [
        {
          "output_type": "display_data",
          "data": {
            "text/plain": [
              "<Figure size 864x360 with 1 Axes>"
            ],
            "image/png": "[encoded data removed]"
          },
          "metadata": {
            "needs_background": "light"
          }
        }
      ],
      "source": [
        "# Distribution of Movie and TV show YoY\n",
        "plt.figure(figsize=(12,5))\n",
        "sns.histplot(data=dataset,x=\"release_year\",hue=\"type\")\n",
        "plt.xlim(left=2009,right=2021)\n",
        "plt.xlabel('Release Year')\n",
        "plt.title(\"Movie vs TV shows YoY\")\n",
        "plt.show()"
      ]
    },
    {
      "cell_type": "code",
      "execution_count": 10,
      "id": "a070cea2",
      "metadata": {
        "colab": {
          "base_uri": "https://localhost:8080/"
        },
        "id": "a070cea2",
        "outputId": "12a69fd9-bac5-4bb9-8ef4-cdf7d2cd57f7"
      },
      "outputs": [
        {
          "output_type": "stream",
          "name": "stdout",
          "text": [
            "TV Show    315\n",
            "Movie      277\n",
            "Name: type, dtype: int64\n"
          ]
        }
      ],
      "source": [
        "print(dataset.loc[dataset[\"release_year\"] == 2021][\"type\"].value_counts())"
      ]
    },
    {
      "cell_type": "markdown",
      "id": "e932640d",
      "metadata": {
        "id": "e932640d"
      },
      "source": [
        "Now a days TV shows are more trending that can be observed by the fact that counts of TV is increasing YoY. Netflix used to focus more on movies, but the recent trends shows more TV series are getting added to netflix every year, and for year 2021 number of TV shows surpasses the number of movie released."
      ]
    },
    {
      "cell_type": "code",
      "execution_count": 11,
      "id": "a3ccebea",
      "metadata": {
        "id": "a3ccebea"
      },
      "outputs": [],
      "source": [
        "df_movie = dataset.loc[dataset[\"type\"] == \"Movie\"].copy()\n",
        "df_show = dataset.loc[dataset[\"type\"] == \"TV Show\"].copy()"
      ]
    },
    {
      "cell_type": "markdown",
      "id": "9af31bcc",
      "metadata": {
        "id": "9af31bcc"
      },
      "source": [
        "# Movies"
      ]
    },
    {
      "cell_type": "code",
      "execution_count": 12,
      "id": "a906cf19",
      "metadata": {
        "colab": {
          "base_uri": "https://localhost:8080/",
          "height": 580
        },
        "id": "a906cf19",
        "outputId": "40d6e3ab-270f-4e08-9f5b-c8e3bd350cce"
      },
      "outputs": [
        {
          "output_type": "execute_result",
          "data": {
            "text/plain": [
              "   show_id   type                             title  \\\n",
              "0       s1  Movie              Dick Johnson Is Dead   \n",
              "6       s7  Movie  My Little Pony: A New Generation   \n",
              "7       s8  Movie                           Sankofa   \n",
              "9      s10  Movie                      The Starling   \n",
              "12     s13  Movie                      Je Suis Karl   \n",
              "\n",
              "                         director  \\\n",
              "0                 Kirsten Johnson   \n",
              "6   Robert Cullen, José Luis Ucha   \n",
              "7                    Haile Gerima   \n",
              "9                  Theodore Melfi   \n",
              "12            Christian Schwochow   \n",
              "\n",
              "                                                 cast  \\\n",
              "0                                                 NaN   \n",
              "6   Vanessa Hudgens, Kimiko Glenn, James Marsden, ...   \n",
              "7   Kofi Ghanaba, Oyafunmike Ogunlano, Alexandra D...   \n",
              "9   Melissa McCarthy, Chris O'Dowd, Kevin Kline, T...   \n",
              "12  Luna Wedler, Jannis Niewöhner, Milan Peschel, ...   \n",
              "\n",
              "                                              country          date_added  \\\n",
              "0                                       United States  September 25, 2021   \n",
              "6                                                 NaN  September 24, 2021   \n",
              "7   United States, Ghana, Burkina Faso, United Kin...  September 24, 2021   \n",
              "9                                       United States  September 24, 2021   \n",
              "12                            Germany, Czech Republic  September 23, 2021   \n",
              "\n",
              "    release_year rating duration  \\\n",
              "0           2020  PG-13   90 min   \n",
              "6           2021     PG   91 min   \n",
              "7           1993  TV-MA  125 min   \n",
              "9           2021  PG-13  104 min   \n",
              "12          2021  TV-MA  127 min   \n",
              "\n",
              "                                           listed_in  \\\n",
              "0                                      Documentaries   \n",
              "6                           Children & Family Movies   \n",
              "7   Dramas, Independent Movies, International Movies   \n",
              "9                                   Comedies, Dramas   \n",
              "12                      Dramas, International Movies   \n",
              "\n",
              "                                          description  \n",
              "0   As her father nears the end of his life, filmm...  \n",
              "6   Equestria's divided. But a bright-eyed hero be...  \n",
              "7   On a photo shoot in Ghana, an American model s...  \n",
              "9   A woman adjusting to life after a loss contend...  \n",
              "12  After most of her family is murdered in a terr...  "
            ],
            "text/html": [
              "\n",
              "  <div id=\"df-5cd97950-5e2f-49c8-afe6-446a63cfe564\">\n",
              "    <div class=\"colab-df-container\">\n",
              "      <div>\n",
              "<style scoped>\n",
              "    .dataframe tbody tr th:only-of-type {\n",
              "        vertical-align: middle;\n",
              "    }\n",
              "\n",
              "    .dataframe tbody tr th {\n",
              "        vertical-align: top;\n",
              "    }\n",
              "\n",
              "    .dataframe thead th {\n",
              "        text-align: right;\n",
              "    }\n",
              "</style>\n",
              "<table border=\"1\" class=\"dataframe\">\n",
              "  <thead>\n",
              "    <tr style=\"text-align: right;\">\n",
              "      <th></th>\n",
              "      <th>show_id</th>\n",
              "      <th>type</th>\n",
              "      <th>title</th>\n",
              "      <th>director</th>\n",
              "      <th>cast</th>\n",
              "      <th>country</th>\n",
              "      <th>date_added</th>\n",
              "      <th>release_year</th>\n",
              "      <th>rating</th>\n",
              "      <th>duration</th>\n",
              "      <th>listed_in</th>\n",
              "      <th>description</th>\n",
              "    </tr>\n",
              "  </thead>\n",
              "  <tbody>\n",
              "    <tr>\n",
              "      <th>0</th>\n",
              "      <td>s1</td>\n",
              "      <td>Movie</td>\n",
              "      <td>Dick Johnson Is Dead</td>\n",
              "      <td>Kirsten Johnson</td>\n",
              "      <td>NaN</td>\n",
              "      <td>United States</td>\n",
              "      <td>September 25, 2021</td>\n",
              "      <td>2020</td>\n",
              "      <td>PG-13</td>\n",
              "      <td>90 min</td>\n",
              "      <td>Documentaries</td>\n",
              "      <td>As her father nears the end of his life, filmm...</td>\n",
              "    </tr>\n",
              "    <tr>\n",
              "      <th>6</th>\n",
              "      <td>s7</td>\n",
              "      <td>Movie</td>\n",
              "      <td>My Little Pony: A New Generation</td>\n",
              "      <td>Robert Cullen, José Luis Ucha</td>\n",
              "      <td>Vanessa Hudgens, Kimiko Glenn, James Marsden, ...</td>\n",
              "      <td>NaN</td>\n",
              "      <td>September 24, 2021</td>\n",
              "      <td>2021</td>\n",
              "      <td>PG</td>\n",
              "      <td>91 min</td>\n",
              "      <td>Children &amp; Family Movies</td>\n",
              "      <td>Equestria's divided. But a bright-eyed hero be...</td>\n",
              "    </tr>\n",
              "    <tr>\n",
              "      <th>7</th>\n",
              "      <td>s8</td>\n",
              "      <td>Movie</td>\n",
              "      <td>Sankofa</td>\n",
              "      <td>Haile Gerima</td>\n",
              "      <td>Kofi Ghanaba, Oyafunmike Ogunlano, Alexandra D...</td>\n",
              "      <td>United States, Ghana, Burkina Faso, United Kin...</td>\n",
              "      <td>September 24, 2021</td>\n",
              "      <td>1993</td>\n",
              "      <td>TV-MA</td>\n",
              "      <td>125 min</td>\n",
              "      <td>Dramas, Independent Movies, International Movies</td>\n",
              "      <td>On a photo shoot in Ghana, an American model s...</td>\n",
              "    </tr>\n",
              "    <tr>\n",
              "      <th>9</th>\n",
              "      <td>s10</td>\n",
              "      <td>Movie</td>\n",
              "      <td>The Starling</td>\n",
              "      <td>Theodore Melfi</td>\n",
              "      <td>Melissa McCarthy, Chris O'Dowd, Kevin Kline, T...</td>\n",
              "      <td>United States</td>\n",
              "      <td>September 24, 2021</td>\n",
              "      <td>2021</td>\n",
              "      <td>PG-13</td>\n",
              "      <td>104 min</td>\n",
              "      <td>Comedies, Dramas</td>\n",
              "      <td>A woman adjusting to life after a loss contend...</td>\n",
              "    </tr>\n",
              "    <tr>\n",
              "      <th>12</th>\n",
              "      <td>s13</td>\n",
              "      <td>Movie</td>\n",
              "      <td>Je Suis Karl</td>\n",
              "      <td>Christian Schwochow</td>\n",
              "      <td>Luna Wedler, Jannis Niewöhner, Milan Peschel, ...</td>\n",
              "      <td>Germany, Czech Republic</td>\n",
              "      <td>September 23, 2021</td>\n",
              "      <td>2021</td>\n",
              "      <td>TV-MA</td>\n",
              "      <td>127 min</td>\n",
              "      <td>Dramas, International Movies</td>\n",
              "      <td>After most of her family is murdered in a terr...</td>\n",
              "    </tr>\n",
              "  </tbody>\n",
              "</table>\n",
              "</div>\n",
              "      <button class=\"colab-df-convert\" onclick=\"convertToInteractive('df-5cd97950-5e2f-49c8-afe6-446a63cfe564')\"\n",
              "              title=\"Convert this dataframe to an interactive table.\"\n",
              "              style=\"display:none;\">\n",
              "        \n",
              "  <svg xmlns=\"http://www.w3.org/2000/svg\" height=\"24px\"viewBox=\"0 0 24 24\"\n",
              "       width=\"24px\">\n",
              "    <path d=\"M0 0h24v24H0V0z\" fill=\"none\"/>\n",
              "    <path d=\"M18.56 5.44l.94 2.06.94-2.06 2.06-.94-2.06-.94-.94-2.06-.94 2.06-2.06.94zm-11 1L8.5 8.5l.94-2.06 2.06-.94-2.06-.94L8.5 2.5l-.94 2.06-2.06.94zm10 10l.94 2.06.94-2.06 2.06-.94-2.06-.94-.94-2.06-.94 2.06-2.06.94z\"/><path d=\"M17.41 7.96l-1.37-1.37c-.4-.4-.92-.59-1.43-.59-.52 0-1.04.2-1.43.59L10.3 9.45l-7.72 7.72c-.78.78-.78 2.05 0 2.83L4 21.41c.39.39.9.59 1.41.59.51 0 1.02-.2 1.41-.59l7.78-7.78 2.81-2.81c.8-.78.8-2.07 0-2.86zM5.41 20L4 18.59l7.72-7.72 1.47 1.35L5.41 20z\"/>\n",
              "  </svg>\n",
              "      </button>\n",
              "      \n",
              "  <style>\n",
              "    .colab-df-container {\n",
              "      display:flex;\n",
              "      flex-wrap:wrap;\n",
              "      gap: 12px;\n",
              "    }\n",
              "\n",
              "    .colab-df-convert {\n",
              "      background-color: #E8F0FE;\n",
              "      border: none;\n",
              "      border-radius: 50%;\n",
              "      cursor: pointer;\n",
              "      display: none;\n",
              "      fill: #1967D2;\n",
              "      height: 32px;\n",
              "      padding: 0 0 0 0;\n",
              "      width: 32px;\n",
              "    }\n",
              "\n",
              "    .colab-df-convert:hover {\n",
              "      background-color: #E2EBFA;\n",
              "      box-shadow: 0px 1px 2px rgba(60, 64, 67, 0.3), 0px 1px 3px 1px rgba(60, 64, 67, 0.15);\n",
              "      fill: #174EA6;\n",
              "    }\n",
              "\n",
              "    [theme=dark] .colab-df-convert {\n",
              "      background-color: #3B4455;\n",
              "      fill: #D2E3FC;\n",
              "    }\n",
              "\n",
              "    [theme=dark] .colab-df-convert:hover {\n",
              "      background-color: #434B5C;\n",
              "      box-shadow: 0px 1px 3px 1px rgba(0, 0, 0, 0.15);\n",
              "      filter: drop-shadow(0px 1px 2px rgba(0, 0, 0, 0.3));\n",
              "      fill: #FFFFFF;\n",
              "    }\n",
              "  </style>\n",
              "\n",
              "      <script>\n",
              "        const buttonEl =\n",
              "          document.querySelector('#df-5cd97950-5e2f-49c8-afe6-446a63cfe564 button.colab-df-convert');\n",
              "        buttonEl.style.display =\n",
              "          google.colab.kernel.accessAllowed ? 'block' : 'none';\n",
              "\n",
              "        async function convertToInteractive(key) {\n",
              "          const element = document.querySelector('#df-5cd97950-5e2f-49c8-afe6-446a63cfe564');\n",
              "          const dataTable =\n",
              "            await google.colab.kernel.invokeFunction('convertToInteractive',\n",
              "                                                     [key], {});\n",
              "          if (!dataTable) return;\n",
              "\n",
              "          const docLinkHtml = 'Like what you see? Visit the ' +\n",
              "            '<a target=\"_blank\" href=https://colab.research.google.com/notebooks/data_table.ipynb>data table notebook</a>'\n",
              "            + ' to learn more about interactive tables.';\n",
              "          element.innerHTML = '';\n",
              "          dataTable['output_type'] = 'display_data';\n",
              "          await google.colab.output.renderOutput(dataTable, element);\n",
              "          const docLink = document.createElement('div');\n",
              "          docLink.innerHTML = docLinkHtml;\n",
              "          element.appendChild(docLink);\n",
              "        }\n",
              "      </script>\n",
              "    </div>\n",
              "  </div>\n",
              "  "
            ]
          },
          "metadata": {},
          "execution_count": 12
        }
      ],
      "source": [
        "df_movie.head()"
      ]
    },
    {
      "cell_type": "markdown",
      "id": "d41b38d6",
      "metadata": {
        "id": "d41b38d6"
      },
      "source": [
        "#### Check for null values"
      ]
    },
    {
      "cell_type": "code",
      "execution_count": 13,
      "id": "1909de03",
      "metadata": {
        "scrolled": true,
        "colab": {
          "base_uri": "https://localhost:8080/"
        },
        "id": "1909de03",
        "outputId": "9f42fd17-ca53-46e1-ed8a-7f6d636afc7c"
      },
      "outputs": [
        {
          "output_type": "execute_result",
          "data": {
            "text/plain": [
              "show_id         0.000000\n",
              "type            0.000000\n",
              "title           0.000000\n",
              "director        3.066384\n",
              "cast            7.747513\n",
              "country         7.176643\n",
              "date_added      0.000000\n",
              "release_year    0.000000\n",
              "rating          0.032621\n",
              "duration        0.048932\n",
              "listed_in       0.000000\n",
              "description     0.000000\n",
              "dtype: float64"
            ]
          },
          "metadata": {},
          "execution_count": 13
        }
      ],
      "source": [
        "df_movie.isna().sum()/df_movie.shape[0]*100"
      ]
    },
    {
      "cell_type": "raw",
      "id": "a742bf14",
      "metadata": {
        "id": "a742bf14"
      },
      "source": [
        "We observe a very small fraction has null values\n",
        "We can drop the nulls to continue with our EDA for now. "
      ]
    },
    {
      "cell_type": "code",
      "execution_count": 14,
      "id": "7e250aa9",
      "metadata": {
        "id": "7e250aa9"
      },
      "outputs": [],
      "source": [
        "df_movie.dropna(inplace=True)"
      ]
    },
    {
      "cell_type": "markdown",
      "id": "b732c646",
      "metadata": {
        "id": "b732c646"
      },
      "source": [
        "#### Movie Duration "
      ]
    },
    {
      "cell_type": "code",
      "execution_count": 15,
      "id": "9ad3d4b4",
      "metadata": {
        "id": "9ad3d4b4"
      },
      "outputs": [],
      "source": [
        "df_movie[\"duration\"] = df_movie[\"duration\"].apply(lambda x: int(x.split()[0]))"
      ]
    },
    {
      "cell_type": "code",
      "execution_count": 16,
      "id": "fb4c8595",
      "metadata": {
        "colab": {
          "base_uri": "https://localhost:8080/",
          "height": 252
        },
        "id": "fb4c8595",
        "outputId": "91fca0f6-78aa-45f1-a77b-6fb799465041"
      },
      "outputs": [
        {
          "output_type": "display_data",
          "data": {
            "text/plain": [
              "<Figure size 432x288 with 1 Axes>"
            ],
            "image/png": "[encoded data removed]"
          },
          "metadata": {
            "needs_background": "light"
          }
        }
      ],
      "source": [
        "# Checking the distribution of duration for  Movies \n",
        "sns.boxplot(y=\"duration\",data=df_movie)\n",
        "plt.show()"
      ]
    },
    {
      "cell_type": "code",
      "execution_count": 111,
      "id": "ad07d978",
      "metadata": {
        "colab": {
          "base_uri": "https://localhost:8080/",
          "height": 296
        },
        "id": "ad07d978",
        "outputId": "c0da5ccd-7acb-4547-cb92-d35d021aec9e"
      },
      "outputs": [
        {
          "output_type": "execute_result",
          "data": {
            "text/plain": [
              "<matplotlib.axes._subplots.AxesSubplot at 0x7fb6e930bca0>"
            ]
          },
          "metadata": {},
          "execution_count": 111
        },
        {
          "output_type": "display_data",
          "data": {
            "text/plain": [
              "<Figure size 432x288 with 1 Axes>"
            ],
            "image/png": "[encoded data removed]"
          },
          "metadata": {
            "needs_background": "light"
          }
        }
      ],
      "source": [
        "sns.histplot(df_movie['duration'],kde=True)"
      ]
    },
    {
      "cell_type": "code",
      "execution_count": 18,
      "id": "e41dcf2f",
      "metadata": {
        "scrolled": true,
        "colab": {
          "base_uri": "https://localhost:8080/"
        },
        "id": "e41dcf2f",
        "outputId": "57f94318-78b7-4c44-b54a-9272d6120c0e"
      },
      "outputs": [
        {
          "output_type": "execute_result",
          "data": {
            "text/plain": [
              "count    5185.000000\n",
              "mean      102.701446\n",
              "std        25.962914\n",
              "min         8.000000\n",
              "25%        89.000000\n",
              "50%       101.000000\n",
              "75%       117.000000\n",
              "max       253.000000\n",
              "Name: duration, dtype: float64"
            ]
          },
          "metadata": {},
          "execution_count": 18
        }
      ],
      "source": [
        "df_movie[\"duration\"].describe()\n",
        "# Here we can see mean and median is almost equal and showcasing that the plot is Normally distributed"
      ]
    },
    {
      "cell_type": "code",
      "execution_count": 19,
      "id": "7da30936",
      "metadata": {
        "colab": {
          "base_uri": "https://localhost:8080/",
          "height": 159
        },
        "id": "7da30936",
        "outputId": "3d7d729c-1924-49e6-a0d2-ccab3597f665"
      },
      "outputs": [
        {
          "output_type": "execute_result",
          "data": {
            "text/plain": [
              "     show_id   type             title                        director  \\\n",
              "1484   s1485  Movie  Cops and Robbers  Arnon Manor, Timothy Ware-Hill   \n",
              "\n",
              "                   cast        country         date_added  release_year  \\\n",
              "1484  Timothy Ware-Hill  United States  December 28, 2020          2020   \n",
              "\n",
              "     rating  duration listed_in  \\\n",
              "1484  PG-13         8    Dramas   \n",
              "\n",
              "                                            description  \n",
              "1484  Animation and activism unite in this multimedi...  "
            ],
            "text/html": [
              "\n",
              "  <div id=\"df-de858d6a-9df4-4bea-8933-b1da55c199d5\">\n",
              "    <div class=\"colab-df-container\">\n",
              "      <div>\n",
              "<style scoped>\n",
              "    .dataframe tbody tr th:only-of-type {\n",
              "        vertical-align: middle;\n",
              "    }\n",
              "\n",
              "    .dataframe tbody tr th {\n",
              "        vertical-align: top;\n",
              "    }\n",
              "\n",
              "    .dataframe thead th {\n",
              "        text-align: right;\n",
              "    }\n",
              "</style>\n",
              "<table border=\"1\" class=\"dataframe\">\n",
              "  <thead>\n",
              "    <tr style=\"text-align: right;\">\n",
              "      <th></th>\n",
              "      <th>show_id</th>\n",
              "      <th>type</th>\n",
              "      <th>title</th>\n",
              "      <th>director</th>\n",
              "      <th>cast</th>\n",
              "      <th>country</th>\n",
              "      <th>date_added</th>\n",
              "      <th>release_year</th>\n",
              "      <th>rating</th>\n",
              "      <th>duration</th>\n",
              "      <th>listed_in</th>\n",
              "      <th>description</th>\n",
              "    </tr>\n",
              "  </thead>\n",
              "  <tbody>\n",
              "    <tr>\n",
              "      <th>1484</th>\n",
              "      <td>s1485</td>\n",
              "      <td>Movie</td>\n",
              "      <td>Cops and Robbers</td>\n",
              "      <td>Arnon Manor, Timothy Ware-Hill</td>\n",
              "      <td>Timothy Ware-Hill</td>\n",
              "      <td>United States</td>\n",
              "      <td>December 28, 2020</td>\n",
              "      <td>2020</td>\n",
              "      <td>PG-13</td>\n",
              "      <td>8</td>\n",
              "      <td>Dramas</td>\n",
              "      <td>Animation and activism unite in this multimedi...</td>\n",
              "    </tr>\n",
              "  </tbody>\n",
              "</table>\n",
              "</div>\n",
              "      <button class=\"colab-df-convert\" onclick=\"convertToInteractive('df-de858d6a-9df4-4bea-8933-b1da55c199d5')\"\n",
              "              title=\"Convert this dataframe to an interactive table.\"\n",
              "              style=\"display:none;\">\n",
              "        \n",
              "  <svg xmlns=\"http://www.w3.org/2000/svg\" height=\"24px\"viewBox=\"0 0 24 24\"\n",
              "       width=\"24px\">\n",
              "    <path d=\"M0 0h24v24H0V0z\" fill=\"none\"/>\n",
              "    <path d=\"M18.56 5.44l.94 2.06.94-2.06 2.06-.94-2.06-.94-.94-2.06-.94 2.06-2.06.94zm-11 1L8.5 8.5l.94-2.06 2.06-.94-2.06-.94L8.5 2.5l-.94 2.06-2.06.94zm10 10l.94 2.06.94-2.06 2.06-.94-2.06-.94-.94-2.06-.94 2.06-2.06.94z\"/><path d=\"M17.41 7.96l-1.37-1.37c-.4-.4-.92-.59-1.43-.59-.52 0-1.04.2-1.43.59L10.3 9.45l-7.72 7.72c-.78.78-.78 2.05 0 2.83L4 21.41c.39.39.9.59 1.41.59.51 0 1.02-.2 1.41-.59l7.78-7.78 2.81-2.81c.8-.78.8-2.07 0-2.86zM5.41 20L4 18.59l7.72-7.72 1.47 1.35L5.41 20z\"/>\n",
              "  </svg>\n",
              "      </button>\n",
              "      \n",
              "  <style>\n",
              "    .colab-df-container {\n",
              "      display:flex;\n",
              "      flex-wrap:wrap;\n",
              "      gap: 12px;\n",
              "    }\n",
              "\n",
              "    .colab-df-convert {\n",
              "      background-color: #E8F0FE;\n",
              "      border: none;\n",
              "      border-radius: 50%;\n",
              "      cursor: pointer;\n",
              "      display: none;\n",
              "      fill: #1967D2;\n",
              "      height: 32px;\n",
              "      padding: 0 0 0 0;\n",
              "      width: 32px;\n",
              "    }\n",
              "\n",
              "    .colab-df-convert:hover {\n",
              "      background-color: #E2EBFA;\n",
              "      box-shadow: 0px 1px 2px rgba(60, 64, 67, 0.3), 0px 1px 3px 1px rgba(60, 64, 67, 0.15);\n",
              "      fill: #174EA6;\n",
              "    }\n",
              "\n",
              "    [theme=dark] .colab-df-convert {\n",
              "      background-color: #3B4455;\n",
              "      fill: #D2E3FC;\n",
              "    }\n",
              "\n",
              "    [theme=dark] .colab-df-convert:hover {\n",
              "      background-color: #434B5C;\n",
              "      box-shadow: 0px 1px 3px 1px rgba(0, 0, 0, 0.15);\n",
              "      filter: drop-shadow(0px 1px 2px rgba(0, 0, 0, 0.3));\n",
              "      fill: #FFFFFF;\n",
              "    }\n",
              "  </style>\n",
              "\n",
              "      <script>\n",
              "        const buttonEl =\n",
              "          document.querySelector('#df-de858d6a-9df4-4bea-8933-b1da55c199d5 button.colab-df-convert');\n",
              "        buttonEl.style.display =\n",
              "          google.colab.kernel.accessAllowed ? 'block' : 'none';\n",
              "\n",
              "        async function convertToInteractive(key) {\n",
              "          const element = document.querySelector('#df-de858d6a-9df4-4bea-8933-b1da55c199d5');\n",
              "          const dataTable =\n",
              "            await google.colab.kernel.invokeFunction('convertToInteractive',\n",
              "                                                     [key], {});\n",
              "          if (!dataTable) return;\n",
              "\n",
              "          const docLinkHtml = 'Like what you see? Visit the ' +\n",
              "            '<a target=\"_blank\" href=https://colab.research.google.com/notebooks/data_table.ipynb>data table notebook</a>'\n",
              "            + ' to learn more about interactive tables.';\n",
              "          element.innerHTML = '';\n",
              "          dataTable['output_type'] = 'display_data';\n",
              "          await google.colab.output.renderOutput(dataTable, element);\n",
              "          const docLink = document.createElement('div');\n",
              "          docLink.innerHTML = docLinkHtml;\n",
              "          element.appendChild(docLink);\n",
              "        }\n",
              "      </script>\n",
              "    </div>\n",
              "  </div>\n",
              "  "
            ]
          },
          "metadata": {},
          "execution_count": 19
        }
      ],
      "source": [
        "# smallest duration movie on netflix\n",
        "df_movie.loc[df_movie[\"duration\"] == df_movie[\"duration\"].min()]\n",
        "# Minimun duration is 8 mins"
      ]
    },
    {
      "cell_type": "code",
      "execution_count": 20,
      "id": "34d31a11",
      "metadata": {
        "colab": {
          "base_uri": "https://localhost:8080/",
          "height": 177
        },
        "id": "34d31a11",
        "outputId": "83fd6ce5-161f-45d7-9e18-fb869a574c32"
      },
      "outputs": [
        {
          "output_type": "execute_result",
          "data": {
            "text/plain": [
              "     show_id   type                   title                director  \\\n",
              "2491   s2492  Movie  The School of Mischief  Houssam El-Din Mustafa   \n",
              "\n",
              "                                                   cast country    date_added  \\\n",
              "2491  Suhair El-Babili, Adel Emam, Saeed Saleh, Youn...   Egypt  May 21, 2020   \n",
              "\n",
              "      release_year rating  duration                               listed_in  \\\n",
              "2491          1973  TV-14       253  Comedies, Dramas, International Movies   \n",
              "\n",
              "                                            description  \n",
              "2491  A high school teacher volunteers to transform ...  "
            ],
            "text/html": [
              "\n",
              "  <div id=\"df-25385d71-2204-422f-8f7d-b0a3ebf8e308\">\n",
              "    <div class=\"colab-df-container\">\n",
              "      <div>\n",
              "<style scoped>\n",
              "    .dataframe tbody tr th:only-of-type {\n",
              "        vertical-align: middle;\n",
              "    }\n",
              "\n",
              "    .dataframe tbody tr th {\n",
              "        vertical-align: top;\n",
              "    }\n",
              "\n",
              "    .dataframe thead th {\n",
              "        text-align: right;\n",
              "    }\n",
              "</style>\n",
              "<table border=\"1\" class=\"dataframe\">\n",
              "  <thead>\n",
              "    <tr style=\"text-align: right;\">\n",
              "      <th></th>\n",
              "      <th>show_id</th>\n",
              "      <th>type</th>\n",
              "      <th>title</th>\n",
              "      <th>director</th>\n",
              "      <th>cast</th>\n",
              "      <th>country</th>\n",
              "      <th>date_added</th>\n",
              "      <th>release_year</th>\n",
              "      <th>rating</th>\n",
              "      <th>duration</th>\n",
              "      <th>listed_in</th>\n",
              "      <th>description</th>\n",
              "    </tr>\n",
              "  </thead>\n",
              "  <tbody>\n",
              "    <tr>\n",
              "      <th>2491</th>\n",
              "      <td>s2492</td>\n",
              "      <td>Movie</td>\n",
              "      <td>The School of Mischief</td>\n",
              "      <td>Houssam El-Din Mustafa</td>\n",
              "      <td>Suhair El-Babili, Adel Emam, Saeed Saleh, Youn...</td>\n",
              "      <td>Egypt</td>\n",
              "      <td>May 21, 2020</td>\n",
              "      <td>1973</td>\n",
              "      <td>TV-14</td>\n",
              "      <td>253</td>\n",
              "      <td>Comedies, Dramas, International Movies</td>\n",
              "      <td>A high school teacher volunteers to transform ...</td>\n",
              "    </tr>\n",
              "  </tbody>\n",
              "</table>\n",
              "</div>\n",
              "      <button class=\"colab-df-convert\" onclick=\"convertToInteractive('df-25385d71-2204-422f-8f7d-b0a3ebf8e308')\"\n",
              "              title=\"Convert this dataframe to an interactive table.\"\n",
              "              style=\"display:none;\">\n",
              "        \n",
              "  <svg xmlns=\"http://www.w3.org/2000/svg\" height=\"24px\"viewBox=\"0 0 24 24\"\n",
              "       width=\"24px\">\n",
              "    <path d=\"M0 0h24v24H0V0z\" fill=\"none\"/>\n",
              "    <path d=\"M18.56 5.44l.94 2.06.94-2.06 2.06-.94-2.06-.94-.94-2.06-.94 2.06-2.06.94zm-11 1L8.5 8.5l.94-2.06 2.06-.94-2.06-.94L8.5 2.5l-.94 2.06-2.06.94zm10 10l.94 2.06.94-2.06 2.06-.94-2.06-.94-.94-2.06-.94 2.06-2.06.94z\"/><path d=\"M17.41 7.96l-1.37-1.37c-.4-.4-.92-.59-1.43-.59-.52 0-1.04.2-1.43.59L10.3 9.45l-7.72 7.72c-.78.78-.78 2.05 0 2.83L4 21.41c.39.39.9.59 1.41.59.51 0 1.02-.2 1.41-.59l7.78-7.78 2.81-2.81c.8-.78.8-2.07 0-2.86zM5.41 20L4 18.59l7.72-7.72 1.47 1.35L5.41 20z\"/>\n",
              "  </svg>\n",
              "      </button>\n",
              "      \n",
              "  <style>\n",
              "    .colab-df-container {\n",
              "      display:flex;\n",
              "      flex-wrap:wrap;\n",
              "      gap: 12px;\n",
              "    }\n",
              "\n",
              "    .colab-df-convert {\n",
              "      background-color: #E8F0FE;\n",
              "      border: none;\n",
              "      border-radius: 50%;\n",
              "      cursor: pointer;\n",
              "      display: none;\n",
              "      fill: #1967D2;\n",
              "      height: 32px;\n",
              "      padding: 0 0 0 0;\n",
              "      width: 32px;\n",
              "    }\n",
              "\n",
              "    .colab-df-convert:hover {\n",
              "      background-color: #E2EBFA;\n",
              "      box-shadow: 0px 1px 2px rgba(60, 64, 67, 0.3), 0px 1px 3px 1px rgba(60, 64, 67, 0.15);\n",
              "      fill: #174EA6;\n",
              "    }\n",
              "\n",
              "    [theme=dark] .colab-df-convert {\n",
              "      background-color: #3B4455;\n",
              "      fill: #D2E3FC;\n",
              "    }\n",
              "\n",
              "    [theme=dark] .colab-df-convert:hover {\n",
              "      background-color: #434B5C;\n",
              "      box-shadow: 0px 1px 3px 1px rgba(0, 0, 0, 0.15);\n",
              "      filter: drop-shadow(0px 1px 2px rgba(0, 0, 0, 0.3));\n",
              "      fill: #FFFFFF;\n",
              "    }\n",
              "  </style>\n",
              "\n",
              "      <script>\n",
              "        const buttonEl =\n",
              "          document.querySelector('#df-25385d71-2204-422f-8f7d-b0a3ebf8e308 button.colab-df-convert');\n",
              "        buttonEl.style.display =\n",
              "          google.colab.kernel.accessAllowed ? 'block' : 'none';\n",
              "\n",
              "        async function convertToInteractive(key) {\n",
              "          const element = document.querySelector('#df-25385d71-2204-422f-8f7d-b0a3ebf8e308');\n",
              "          const dataTable =\n",
              "            await google.colab.kernel.invokeFunction('convertToInteractive',\n",
              "                                                     [key], {});\n",
              "          if (!dataTable) return;\n",
              "\n",
              "          const docLinkHtml = 'Like what you see? Visit the ' +\n",
              "            '<a target=\"_blank\" href=https://colab.research.google.com/notebooks/data_table.ipynb>data table notebook</a>'\n",
              "            + ' to learn more about interactive tables.';\n",
              "          element.innerHTML = '';\n",
              "          dataTable['output_type'] = 'display_data';\n",
              "          await google.colab.output.renderOutput(dataTable, element);\n",
              "          const docLink = document.createElement('div');\n",
              "          docLink.innerHTML = docLinkHtml;\n",
              "          element.appendChild(docLink);\n",
              "        }\n",
              "      </script>\n",
              "    </div>\n",
              "  </div>\n",
              "  "
            ]
          },
          "metadata": {},
          "execution_count": 20
        }
      ],
      "source": [
        "# largest duration movie on netflix\n",
        "df_movie.loc[df_movie[\"duration\"] == df_movie[\"duration\"].max()]\n",
        "# Maxing duration is 253"
      ]
    },
    {
      "cell_type": "markdown",
      "id": "274ed0f0",
      "metadata": {
        "id": "274ed0f0"
      },
      "source": [
        "#### Long-Short Movies "
      ]
    },
    {
      "cell_type": "code",
      "execution_count": 21,
      "id": "2bba075c",
      "metadata": {
        "id": "2bba075c"
      },
      "outputs": [],
      "source": [
        "# Movies with less than 30 minutes\n",
        "under_30_mins_movie = df_movie.loc[df_movie[\"duration\"] < 30]"
      ]
    },
    {
      "cell_type": "markdown",
      "id": "a6220282",
      "metadata": {
        "id": "a6220282"
      },
      "source": [
        "#### Diving Movies based on Ratings"
      ]
    },
    {
      "cell_type": "code",
      "execution_count": 22,
      "id": "9446be27",
      "metadata": {
        "colab": {
          "base_uri": "https://localhost:8080/"
        },
        "id": "9446be27",
        "outputId": "678cfa3d-cead-4e1f-fc90-8037801148c5"
      },
      "outputs": [
        {
          "output_type": "execute_result",
          "data": {
            "text/plain": [
              "array(['TV-PG', 'TV-G', 'TV-MA', 'TV-Y', 'PG-13', 'TV-14', 'TV-Y7'],\n",
              "      dtype=object)"
            ]
          },
          "metadata": {},
          "execution_count": 22
        }
      ],
      "source": [
        "under_30_mins_movie['rating'].unique()"
      ]
    },
    {
      "cell_type": "code",
      "execution_count": 23,
      "id": "2a7e48b5",
      "metadata": {
        "colab": {
          "base_uri": "https://localhost:8080/"
        },
        "id": "2a7e48b5",
        "outputId": "92732c70-6ddd-48e7-9c1b-fd72e745b56a"
      },
      "outputs": [
        {
          "output_type": "execute_result",
          "data": {
            "text/plain": [
              "array(['TV-MA', 'PG-13', 'TV-14', 'PG', 'R', 'TV-PG', 'G', 'TV-Y7',\n",
              "       'TV-G', 'TV-Y', 'NC-17', 'NR', 'TV-Y7-FV', 'UR'], dtype=object)"
            ]
          },
          "metadata": {},
          "execution_count": 23
        }
      ],
      "source": [
        "df_movie['rating'].unique()"
      ]
    },
    {
      "cell_type": "markdown",
      "id": "860f8646",
      "metadata": {
        "id": "860f8646"
      },
      "source": [
        "Here the rating is based on **Motion Picture Association film rating system**\n",
        "A quick guide for the same is : https://en.wikipedia.org/wiki/Motion_Picture_Association_film_rating_system\n",
        "For Nextflix, the article is I am refering to is : https://help.netflix.com/en/node/2064/us\n",
        "\n",
        "## Kids\n",
        "TV-Y :  Designed to be appropriate for all children\n",
        "TV-Y7 : Suitable for ages 7 and up\n",
        "G : Suitable for General Audiences\n",
        "TV-G : Suitable for General Audiences\n",
        "PG : Parental Guidance suggested\n",
        "TV-PG : Parental Guidance suggested\n",
        "TV-Y7-FV : Suitable for ages 7 and up Fantasy Volience\n",
        "\n",
        "## Teens\n",
        "PG-13 : Parents strongly cautioned. May be inappropriate for ages under 13.\n",
        "TV-14 : Parents strongly cautioned. May not be suitable for ages under 14.\n",
        "\n",
        "## Adults\n",
        "R : Restricted. May be inappropriate for ages under 17.\n",
        "TV-MA : For Mature Audiences\n",
        "NC-17 : Inappropriate for ages 17 and under\n",
        "\n",
        "For now we can ignore :: \n",
        "NR  : (Not Rated) is for movies with added scenes that theaters won't allow.\n",
        "UR  : (Un-rated) is for movies with added scenes that theaters won't allow, that also contain penetration."
      ]
    },
    {
      "cell_type": "code",
      "execution_count": 24,
      "id": "79aaa29b",
      "metadata": {
        "id": "79aaa29b"
      },
      "outputs": [],
      "source": [
        "movie_ratings = {\n",
        "    \"kids\": ['TV-Y','TV-Y7','G','TV-G','PG','TV-PG','TV-Y7-FV'],\n",
        "    \"teens\": ['PG-13','TV-14'],\n",
        "    \"adults\": ['R','TV-MA','NC-17']\n",
        "}"
      ]
    },
    {
      "cell_type": "code",
      "execution_count": 25,
      "id": "3f363eaf",
      "metadata": {
        "id": "3f363eaf"
      },
      "outputs": [],
      "source": [
        "short_movies_rated={\n",
        "    \"kids\":0,\n",
        "    \"teens\":0,\n",
        "    \"adults\":0\n",
        "}"
      ]
    },
    {
      "cell_type": "code",
      "execution_count": 26,
      "id": "2af3ff5c",
      "metadata": {
        "id": "2af3ff5c"
      },
      "outputs": [],
      "source": [
        "for rating in under_30_mins_movie[\"rating\"]:\n",
        "    if rating in movie_ratings[\"kids\"]:\n",
        "        short_movies_rated[\"kids\"] += 1\n",
        "    elif rating in movie_ratings[\"teens\"]:\n",
        "        short_movies_rated[\"teens\"] += 1\n",
        "    elif rating in movie_ratings[\"adults\"]:\n",
        "        short_movies_rated[\"adults\"] += 1"
      ]
    },
    {
      "cell_type": "code",
      "execution_count": 27,
      "id": "a923dfb3",
      "metadata": {
        "colab": {
          "base_uri": "https://localhost:8080/",
          "height": 279
        },
        "id": "a923dfb3",
        "outputId": "a9ad71f7-5323-49de-95b3-49f6c1319120"
      },
      "outputs": [
        {
          "output_type": "display_data",
          "data": {
            "text/plain": [
              "<Figure size 432x288 with 1 Axes>"
            ],
            "image/png": "[encoded data removed]"
          },
          "metadata": {
            "needs_background": "light"
          }
        }
      ],
      "source": [
        "sns.barplot(x=list(short_movies_rated.keys()), y=list(short_movies_rated.values()))\n",
        "plt.xlabel('Categories')\n",
        "plt.ylabel('Movie Count')\n",
        "plt.show()"
      ]
    },
    {
      "cell_type": "code",
      "execution_count": 28,
      "id": "91fc02a2",
      "metadata": {
        "colab": {
          "base_uri": "https://localhost:8080/"
        },
        "id": "91fc02a2",
        "outputId": "d7627c47-e3c9-49ed-f60d-bad08f0e3aeb"
      },
      "outputs": [
        {
          "output_type": "execute_result",
          "data": {
            "text/plain": [
              "{'kids': 43, 'teens': 3, 'adults': 6}"
            ]
          },
          "metadata": {},
          "execution_count": 28
        }
      ],
      "source": [
        "short_movies_rated"
      ]
    },
    {
      "cell_type": "code",
      "execution_count": 29,
      "id": "fe4329e7",
      "metadata": {
        "id": "fe4329e7"
      },
      "outputs": [],
      "source": [
        "# Movies of more than 180 mins i.e. 3 hrs\n",
        "over_180_mins_movie = df_movie.loc[df_movie[\"duration\"] > 180]"
      ]
    },
    {
      "cell_type": "code",
      "execution_count": 30,
      "id": "24e056e8",
      "metadata": {
        "id": "24e056e8"
      },
      "outputs": [],
      "source": [
        "long_movie_rated = {\n",
        "    \"kids\":0,\n",
        "    \"teens\":0,\n",
        "    \"adults\":0\n",
        "}"
      ]
    },
    {
      "cell_type": "code",
      "execution_count": 31,
      "id": "2c88616c",
      "metadata": {
        "id": "2c88616c"
      },
      "outputs": [],
      "source": [
        "for rating in over_180_mins_movie[\"rating\"]:\n",
        "    if rating in movie_ratings[\"kids\"]:\n",
        "        long_movie_rated[\"kids\"] += 1\n",
        "    elif rating in movie_ratings[\"teens\"]:\n",
        "        long_movie_rated[\"teens\"] += 1\n",
        "    elif rating in movie_ratings[\"adults\"]:\n",
        "        long_movie_rated[\"adults\"] += 1"
      ]
    },
    {
      "cell_type": "code",
      "execution_count": 32,
      "id": "311dbf3b",
      "metadata": {
        "colab": {
          "base_uri": "https://localhost:8080/",
          "height": 279
        },
        "id": "311dbf3b",
        "outputId": "87a433bf-ea83-4043-d699-ff62dbd04148"
      },
      "outputs": [
        {
          "output_type": "display_data",
          "data": {
            "text/plain": [
              "<Figure size 432x288 with 1 Axes>"
            ],
            "image/png": "[encoded data removed]"
          },
          "metadata": {
            "needs_background": "light"
          }
        }
      ],
      "source": [
        "sns.barplot(x=list(long_movie_rated.keys()), y=list(long_movie_rated.values()))\n",
        "plt.xlabel('Categories')\n",
        "plt.ylabel('Movie Count')\n",
        "plt.show()"
      ]
    },
    {
      "cell_type": "markdown",
      "id": "c419b8c1",
      "metadata": {
        "id": "c419b8c1"
      },
      "source": [
        "We can infer from the above two graphs, majority of the **short movies are rated for kids** and most of the **long movies are rated for the teenagers**"
      ]
    },
    {
      "cell_type": "markdown",
      "id": "9a66e5cc",
      "metadata": {
        "id": "9a66e5cc"
      },
      "source": [
        "#### Duration and Directors "
      ]
    },
    {
      "cell_type": "code",
      "execution_count": 33,
      "id": "55b17309",
      "metadata": {
        "id": "55b17309"
      },
      "outputs": [],
      "source": [
        "top_long_movie_dirc = over_180_mins_movie[\"director\"].value_counts().head()"
      ]
    },
    {
      "cell_type": "code",
      "execution_count": 34,
      "id": "2db0484e",
      "metadata": {
        "colab": {
          "base_uri": "https://localhost:8080/",
          "height": 334
        },
        "id": "2db0484e",
        "outputId": "428fc349-398a-4d5c-81e3-a1f7854f7280"
      },
      "outputs": [
        {
          "output_type": "display_data",
          "data": {
            "text/plain": [
              "<Figure size 576x360 with 1 Axes>"
            ],
            "image/png": "[encoded data removed]"
          },
          "metadata": {
            "needs_background": "light"
          }
        }
      ],
      "source": [
        "plt.figure(figsize=(8,5))\n",
        "sns.barplot(x=top_long_movie_dirc.index, y=top_long_movie_dirc.values)\n",
        "plt.xlabel(\"Directors\")\n",
        "plt.ylabel(\"Number of Movies\")\n",
        "plt.show()"
      ]
    },
    {
      "cell_type": "markdown",
      "id": "21a58dea",
      "metadata": {
        "id": "21a58dea"
      },
      "source": [
        "**Ashutosh Gowariker** tops the chart in making long movies, followed by **Karan Johar**."
      ]
    },
    {
      "cell_type": "markdown",
      "id": "58a66420",
      "metadata": {
        "id": "58a66420"
      },
      "source": [
        "#### Movie Released "
      ]
    },
    {
      "cell_type": "code",
      "execution_count": 35,
      "id": "153602a4",
      "metadata": {
        "colab": {
          "base_uri": "https://localhost:8080/",
          "height": 562
        },
        "id": "153602a4",
        "outputId": "e2e8d8c9-fd48-4de2-b97b-a030b6073190"
      },
      "outputs": [
        {
          "output_type": "execute_result",
          "data": {
            "text/plain": [
              "   show_id   type         title             director  \\\n",
              "7       s8  Movie       Sankofa         Haile Gerima   \n",
              "9      s10  Movie  The Starling       Theodore Melfi   \n",
              "12     s13  Movie  Je Suis Karl  Christian Schwochow   \n",
              "24     s25  Movie         Jeans           S. Shankar   \n",
              "27     s28  Movie     Grown Ups         Dennis Dugan   \n",
              "\n",
              "                                                 cast  \\\n",
              "7   Kofi Ghanaba, Oyafunmike Ogunlano, Alexandra D...   \n",
              "9   Melissa McCarthy, Chris O'Dowd, Kevin Kline, T...   \n",
              "12  Luna Wedler, Jannis Niewöhner, Milan Peschel, ...   \n",
              "24  Prashanth, Aishwarya Rai Bachchan, Sri Lakshmi...   \n",
              "27  Adam Sandler, Kevin James, Chris Rock, David S...   \n",
              "\n",
              "                                              country          date_added  \\\n",
              "7   United States, Ghana, Burkina Faso, United Kin...  September 24, 2021   \n",
              "9                                       United States  September 24, 2021   \n",
              "12                            Germany, Czech Republic  September 23, 2021   \n",
              "24                                              India  September 21, 2021   \n",
              "27                                      United States  September 20, 2021   \n",
              "\n",
              "    release_year rating  duration  \\\n",
              "7           1993  TV-MA       125   \n",
              "9           2021  PG-13       104   \n",
              "12          2021  TV-MA       127   \n",
              "24          1998  TV-14       166   \n",
              "27          2010  PG-13       103   \n",
              "\n",
              "                                           listed_in  \\\n",
              "7   Dramas, Independent Movies, International Movies   \n",
              "9                                   Comedies, Dramas   \n",
              "12                      Dramas, International Movies   \n",
              "24   Comedies, International Movies, Romantic Movies   \n",
              "27                                          Comedies   \n",
              "\n",
              "                                          description  \n",
              "7   On a photo shoot in Ghana, an American model s...  \n",
              "9   A woman adjusting to life after a loss contend...  \n",
              "12  After most of her family is murdered in a terr...  \n",
              "24  When the father of the man she loves insists t...  \n",
              "27  Mourning the loss of their beloved junior high...  "
            ],
            "text/html": [
              "\n",
              "  <div id=\"df-c8eb9808-b3fa-4eff-800d-f7aae1d742c5\">\n",
              "    <div class=\"colab-df-container\">\n",
              "      <div>\n",
              "<style scoped>\n",
              "    .dataframe tbody tr th:only-of-type {\n",
              "        vertical-align: middle;\n",
              "    }\n",
              "\n",
              "    .dataframe tbody tr th {\n",
              "        vertical-align: top;\n",
              "    }\n",
              "\n",
              "    .dataframe thead th {\n",
              "        text-align: right;\n",
              "    }\n",
              "</style>\n",
              "<table border=\"1\" class=\"dataframe\">\n",
              "  <thead>\n",
              "    <tr style=\"text-align: right;\">\n",
              "      <th></th>\n",
              "      <th>show_id</th>\n",
              "      <th>type</th>\n",
              "      <th>title</th>\n",
              "      <th>director</th>\n",
              "      <th>cast</th>\n",
              "      <th>country</th>\n",
              "      <th>date_added</th>\n",
              "      <th>release_year</th>\n",
              "      <th>rating</th>\n",
              "      <th>duration</th>\n",
              "      <th>listed_in</th>\n",
              "      <th>description</th>\n",
              "    </tr>\n",
              "  </thead>\n",
              "  <tbody>\n",
              "    <tr>\n",
              "      <th>7</th>\n",
              "      <td>s8</td>\n",
              "      <td>Movie</td>\n",
              "      <td>Sankofa</td>\n",
              "      <td>Haile Gerima</td>\n",
              "      <td>Kofi Ghanaba, Oyafunmike Ogunlano, Alexandra D...</td>\n",
              "      <td>United States, Ghana, Burkina Faso, United Kin...</td>\n",
              "      <td>September 24, 2021</td>\n",
              "      <td>1993</td>\n",
              "      <td>TV-MA</td>\n",
              "      <td>125</td>\n",
              "      <td>Dramas, Independent Movies, International Movies</td>\n",
              "      <td>On a photo shoot in Ghana, an American model s...</td>\n",
              "    </tr>\n",
              "    <tr>\n",
              "      <th>9</th>\n",
              "      <td>s10</td>\n",
              "      <td>Movie</td>\n",
              "      <td>The Starling</td>\n",
              "      <td>Theodore Melfi</td>\n",
              "      <td>Melissa McCarthy, Chris O'Dowd, Kevin Kline, T...</td>\n",
              "      <td>United States</td>\n",
              "      <td>September 24, 2021</td>\n",
              "      <td>2021</td>\n",
              "      <td>PG-13</td>\n",
              "      <td>104</td>\n",
              "      <td>Comedies, Dramas</td>\n",
              "      <td>A woman adjusting to life after a loss contend...</td>\n",
              "    </tr>\n",
              "    <tr>\n",
              "      <th>12</th>\n",
              "      <td>s13</td>\n",
              "      <td>Movie</td>\n",
              "      <td>Je Suis Karl</td>\n",
              "      <td>Christian Schwochow</td>\n",
              "      <td>Luna Wedler, Jannis Niewöhner, Milan Peschel, ...</td>\n",
              "      <td>Germany, Czech Republic</td>\n",
              "      <td>September 23, 2021</td>\n",
              "      <td>2021</td>\n",
              "      <td>TV-MA</td>\n",
              "      <td>127</td>\n",
              "      <td>Dramas, International Movies</td>\n",
              "      <td>After most of her family is murdered in a terr...</td>\n",
              "    </tr>\n",
              "    <tr>\n",
              "      <th>24</th>\n",
              "      <td>s25</td>\n",
              "      <td>Movie</td>\n",
              "      <td>Jeans</td>\n",
              "      <td>S. Shankar</td>\n",
              "      <td>Prashanth, Aishwarya Rai Bachchan, Sri Lakshmi...</td>\n",
              "      <td>India</td>\n",
              "      <td>September 21, 2021</td>\n",
              "      <td>1998</td>\n",
              "      <td>TV-14</td>\n",
              "      <td>166</td>\n",
              "      <td>Comedies, International Movies, Romantic Movies</td>\n",
              "      <td>When the father of the man she loves insists t...</td>\n",
              "    </tr>\n",
              "    <tr>\n",
              "      <th>27</th>\n",
              "      <td>s28</td>\n",
              "      <td>Movie</td>\n",
              "      <td>Grown Ups</td>\n",
              "      <td>Dennis Dugan</td>\n",
              "      <td>Adam Sandler, Kevin James, Chris Rock, David S...</td>\n",
              "      <td>United States</td>\n",
              "      <td>September 20, 2021</td>\n",
              "      <td>2010</td>\n",
              "      <td>PG-13</td>\n",
              "      <td>103</td>\n",
              "      <td>Comedies</td>\n",
              "      <td>Mourning the loss of their beloved junior high...</td>\n",
              "    </tr>\n",
              "  </tbody>\n",
              "</table>\n",
              "</div>\n",
              "      <button class=\"colab-df-convert\" onclick=\"convertToInteractive('df-c8eb9808-b3fa-4eff-800d-f7aae1d742c5')\"\n",
              "              title=\"Convert this dataframe to an interactive table.\"\n",
              "              style=\"display:none;\">\n",
              "        \n",
              "  <svg xmlns=\"http://www.w3.org/2000/svg\" height=\"24px\"viewBox=\"0 0 24 24\"\n",
              "       width=\"24px\">\n",
              "    <path d=\"M0 0h24v24H0V0z\" fill=\"none\"/>\n",
              "    <path d=\"M18.56 5.44l.94 2.06.94-2.06 2.06-.94-2.06-.94-.94-2.06-.94 2.06-2.06.94zm-11 1L8.5 8.5l.94-2.06 2.06-.94-2.06-.94L8.5 2.5l-.94 2.06-2.06.94zm10 10l.94 2.06.94-2.06 2.06-.94-2.06-.94-.94-2.06-.94 2.06-2.06.94z\"/><path d=\"M17.41 7.96l-1.37-1.37c-.4-.4-.92-.59-1.43-.59-.52 0-1.04.2-1.43.59L10.3 9.45l-7.72 7.72c-.78.78-.78 2.05 0 2.83L4 21.41c.39.39.9.59 1.41.59.51 0 1.02-.2 1.41-.59l7.78-7.78 2.81-2.81c.8-.78.8-2.07 0-2.86zM5.41 20L4 18.59l7.72-7.72 1.47 1.35L5.41 20z\"/>\n",
              "  </svg>\n",
              "      </button>\n",
              "      \n",
              "  <style>\n",
              "    .colab-df-container {\n",
              "      display:flex;\n",
              "      flex-wrap:wrap;\n",
              "      gap: 12px;\n",
              "    }\n",
              "\n",
              "    .colab-df-convert {\n",
              "      background-color: #E8F0FE;\n",
              "      border: none;\n",
              "      border-radius: 50%;\n",
              "      cursor: pointer;\n",
              "      display: none;\n",
              "      fill: #1967D2;\n",
              "      height: 32px;\n",
              "      padding: 0 0 0 0;\n",
              "      width: 32px;\n",
              "    }\n",
              "\n",
              "    .colab-df-convert:hover {\n",
              "      background-color: #E2EBFA;\n",
              "      box-shadow: 0px 1px 2px rgba(60, 64, 67, 0.3), 0px 1px 3px 1px rgba(60, 64, 67, 0.15);\n",
              "      fill: #174EA6;\n",
              "    }\n",
              "\n",
              "    [theme=dark] .colab-df-convert {\n",
              "      background-color: #3B4455;\n",
              "      fill: #D2E3FC;\n",
              "    }\n",
              "\n",
              "    [theme=dark] .colab-df-convert:hover {\n",
              "      background-color: #434B5C;\n",
              "      box-shadow: 0px 1px 3px 1px rgba(0, 0, 0, 0.15);\n",
              "      filter: drop-shadow(0px 1px 2px rgba(0, 0, 0, 0.3));\n",
              "      fill: #FFFFFF;\n",
              "    }\n",
              "  </style>\n",
              "\n",
              "      <script>\n",
              "        const buttonEl =\n",
              "          document.querySelector('#df-c8eb9808-b3fa-4eff-800d-f7aae1d742c5 button.colab-df-convert');\n",
              "        buttonEl.style.display =\n",
              "          google.colab.kernel.accessAllowed ? 'block' : 'none';\n",
              "\n",
              "        async function convertToInteractive(key) {\n",
              "          const element = document.querySelector('#df-c8eb9808-b3fa-4eff-800d-f7aae1d742c5');\n",
              "          const dataTable =\n",
              "            await google.colab.kernel.invokeFunction('convertToInteractive',\n",
              "                                                     [key], {});\n",
              "          if (!dataTable) return;\n",
              "\n",
              "          const docLinkHtml = 'Like what you see? Visit the ' +\n",
              "            '<a target=\"_blank\" href=https://colab.research.google.com/notebooks/data_table.ipynb>data table notebook</a>'\n",
              "            + ' to learn more about interactive tables.';\n",
              "          element.innerHTML = '';\n",
              "          dataTable['output_type'] = 'display_data';\n",
              "          await google.colab.output.renderOutput(dataTable, element);\n",
              "          const docLink = document.createElement('div');\n",
              "          docLink.innerHTML = docLinkHtml;\n",
              "          element.appendChild(docLink);\n",
              "        }\n",
              "      </script>\n",
              "    </div>\n",
              "  </div>\n",
              "  "
            ]
          },
          "metadata": {},
          "execution_count": 35
        }
      ],
      "source": [
        "df_movie.head()"
      ]
    },
    {
      "cell_type": "code",
      "execution_count": 36,
      "id": "3b2fc3eb",
      "metadata": {
        "colab": {
          "base_uri": "https://localhost:8080/",
          "height": 280
        },
        "id": "3b2fc3eb",
        "outputId": "76cd5a51-dfba-4bf2-c9e5-fe4d52f1ee86"
      },
      "outputs": [
        {
          "output_type": "display_data",
          "data": {
            "text/plain": [
              "<Figure size 432x288 with 1 Axes>"
            ],
            "image/png": "[encoded data removed]"
          },
          "metadata": {
            "needs_background": "light"
          }
        }
      ],
      "source": [
        "# Number of movies released in last 30 years\n",
        "sns.histplot(x=\"release_year\", data=df_movie)\n",
        "plt.xlim(1990, 2021)\n",
        "plt.show()"
      ]
    },
    {
      "cell_type": "code",
      "execution_count": 37,
      "id": "c40039c6",
      "metadata": {
        "colab": {
          "base_uri": "https://localhost:8080/"
        },
        "id": "c40039c6",
        "outputId": "5bfc13c9-731b-43e5-ec35-ee679b76ac62"
      },
      "outputs": [
        {
          "output_type": "stream",
          "name": "stdout",
          "text": [
            "Number of movies released in 1990 : 16\n",
            "Number of movies released in 2020 : 409\n"
          ]
        }
      ],
      "source": [
        "print(f\"Number of movies released in 1990 : {df_movie.loc[df_movie['release_year'] == 1990].shape[0]}\")\n",
        "print(f\"Number of movies released in 2020 : {df_movie.loc[df_movie['release_year'] == 2020].shape[0]}\")"
      ]
    },
    {
      "cell_type": "markdown",
      "id": "7f06b596",
      "metadata": {
        "id": "7f06b596"
      },
      "source": [
        "Movies releasing per year has increased drastically.\n",
        "    \n",
        "    - Moives released in 1990 : 16\n",
        "    - Movies released in 2020 : 409\n",
        "    \n",
        " "
      ]
    },
    {
      "cell_type": "markdown",
      "id": "4fa26f6e",
      "metadata": {
        "id": "4fa26f6e"
      },
      "source": [
        "#### Based on Countries  Analysis"
      ]
    },
    {
      "cell_type": "code",
      "execution_count": 38,
      "id": "ccd2aeac",
      "metadata": {
        "id": "ccd2aeac"
      },
      "outputs": [],
      "source": [
        "df_country = df_movie.assign(country=df_movie['country'].str.split(\", \")).explode('country')"
      ]
    },
    {
      "cell_type": "code",
      "execution_count": 39,
      "id": "08490190",
      "metadata": {
        "colab": {
          "base_uri": "https://localhost:8080/"
        },
        "id": "08490190",
        "outputId": "68783e1c-1a20-40f8-9fc4-b02f6570fc6f"
      },
      "outputs": [
        {
          "output_type": "execute_result",
          "data": {
            "text/plain": [
              "United States     2444\n",
              "India              932\n",
              "United Kingdom     461\n",
              "Canada             287\n",
              "France             285\n",
              "                  ... \n",
              "Paraguay             1\n",
              "Albania              1\n",
              "Georgia              1\n",
              "Slovakia             1\n",
              "Montenegro           1\n",
              "Name: country, Length: 113, dtype: int64"
            ]
          },
          "metadata": {},
          "execution_count": 39
        }
      ],
      "source": [
        "df_country[\"country\"].value_counts()"
      ]
    },
    {
      "cell_type": "code",
      "execution_count": 40,
      "id": "e0c60bfd",
      "metadata": {
        "id": "e0c60bfd"
      },
      "outputs": [],
      "source": [
        "# Checking the top 5 countries\n",
        "top_countries = df_country[\"country\"].value_counts().head()"
      ]
    },
    {
      "cell_type": "code",
      "execution_count": 41,
      "id": "ca150c08",
      "metadata": {
        "colab": {
          "base_uri": "https://localhost:8080/",
          "height": 279
        },
        "id": "ca150c08",
        "outputId": "ca286db0-140b-4264-919b-b235baa17e4c"
      },
      "outputs": [
        {
          "output_type": "display_data",
          "data": {
            "text/plain": [
              "<Figure size 432x288 with 1 Axes>"
            ],
            "image/png": "[encoded data removed]"
          },
          "metadata": {
            "needs_background": "light"
          }
        }
      ],
      "source": [
        "sns.barplot(x=list(top_countries.index), y=list(top_countries.values))\n",
        "plt.xlabel(\"Country\")\n",
        "plt.ylabel(\"Numer of Movies\")\n",
        "plt.show()"
      ]
    },
    {
      "cell_type": "markdown",
      "id": "ded167be",
      "metadata": {
        "id": "ded167be"
      },
      "source": [
        "Most of the movies in Netflix are producted from United States followed by India and United Kingdom but again with a big margin.\n",
        "**US has produced more movies than all other top four countries combined.**"
      ]
    },
    {
      "cell_type": "code",
      "execution_count": 42,
      "id": "537aa927",
      "metadata": {
        "colab": {
          "base_uri": "https://localhost:8080/"
        },
        "id": "537aa927",
        "outputId": "ea1b0bc4-5c87-46d6-e097-fdf990905890"
      },
      "outputs": [
        {
          "output_type": "execute_result",
          "data": {
            "text/plain": [
              "United States     2444\n",
              "India              932\n",
              "United Kingdom     461\n",
              "Canada             287\n",
              "France             285\n",
              "Name: country, dtype: int64"
            ]
          },
          "metadata": {},
          "execution_count": 42
        }
      ],
      "source": [
        "top_countries"
      ]
    },
    {
      "cell_type": "markdown",
      "id": "e73baf44",
      "metadata": {
        "id": "e73baf44"
      },
      "source": [
        "#### Country and Directors"
      ]
    },
    {
      "cell_type": "code",
      "execution_count": 43,
      "id": "63e9c572",
      "metadata": {
        "colab": {
          "base_uri": "https://localhost:8080/",
          "height": 597
        },
        "id": "63e9c572",
        "outputId": "c4a88428-3fd4-4195-d059-aedcdf521fe1"
      },
      "outputs": [
        {
          "output_type": "execute_result",
          "data": {
            "text/plain": [
              "  show_id   type    title      director  \\\n",
              "7      s8  Movie  Sankofa  Haile Gerima   \n",
              "7      s8  Movie  Sankofa  Haile Gerima   \n",
              "7      s8  Movie  Sankofa  Haile Gerima   \n",
              "7      s8  Movie  Sankofa  Haile Gerima   \n",
              "7      s8  Movie  Sankofa  Haile Gerima   \n",
              "\n",
              "                                                cast         country  \\\n",
              "7  Kofi Ghanaba, Oyafunmike Ogunlano, Alexandra D...   United States   \n",
              "7  Kofi Ghanaba, Oyafunmike Ogunlano, Alexandra D...           Ghana   \n",
              "7  Kofi Ghanaba, Oyafunmike Ogunlano, Alexandra D...    Burkina Faso   \n",
              "7  Kofi Ghanaba, Oyafunmike Ogunlano, Alexandra D...  United Kingdom   \n",
              "7  Kofi Ghanaba, Oyafunmike Ogunlano, Alexandra D...         Germany   \n",
              "\n",
              "           date_added  release_year rating  duration  \\\n",
              "7  September 24, 2021          1993  TV-MA       125   \n",
              "7  September 24, 2021          1993  TV-MA       125   \n",
              "7  September 24, 2021          1993  TV-MA       125   \n",
              "7  September 24, 2021          1993  TV-MA       125   \n",
              "7  September 24, 2021          1993  TV-MA       125   \n",
              "\n",
              "                                          listed_in  \\\n",
              "7  Dramas, Independent Movies, International Movies   \n",
              "7  Dramas, Independent Movies, International Movies   \n",
              "7  Dramas, Independent Movies, International Movies   \n",
              "7  Dramas, Independent Movies, International Movies   \n",
              "7  Dramas, Independent Movies, International Movies   \n",
              "\n",
              "                                         description  \n",
              "7  On a photo shoot in Ghana, an American model s...  \n",
              "7  On a photo shoot in Ghana, an American model s...  \n",
              "7  On a photo shoot in Ghana, an American model s...  \n",
              "7  On a photo shoot in Ghana, an American model s...  \n",
              "7  On a photo shoot in Ghana, an American model s...  "
            ],
            "text/html": [
              "\n",
              "  <div id=\"df-9547b607-d4cf-4f02-866d-65f72c974fc4\">\n",
              "    <div class=\"colab-df-container\">\n",
              "      <div>\n",
              "<style scoped>\n",
              "    .dataframe tbody tr th:only-of-type {\n",
              "        vertical-align: middle;\n",
              "    }\n",
              "\n",
              "    .dataframe tbody tr th {\n",
              "        vertical-align: top;\n",
              "    }\n",
              "\n",
              "    .dataframe thead th {\n",
              "        text-align: right;\n",
              "    }\n",
              "</style>\n",
              "<table border=\"1\" class=\"dataframe\">\n",
              "  <thead>\n",
              "    <tr style=\"text-align: right;\">\n",
              "      <th></th>\n",
              "      <th>show_id</th>\n",
              "      <th>type</th>\n",
              "      <th>title</th>\n",
              "      <th>director</th>\n",
              "      <th>cast</th>\n",
              "      <th>country</th>\n",
              "      <th>date_added</th>\n",
              "      <th>release_year</th>\n",
              "      <th>rating</th>\n",
              "      <th>duration</th>\n",
              "      <th>listed_in</th>\n",
              "      <th>description</th>\n",
              "    </tr>\n",
              "  </thead>\n",
              "  <tbody>\n",
              "    <tr>\n",
              "      <th>7</th>\n",
              "      <td>s8</td>\n",
              "      <td>Movie</td>\n",
              "      <td>Sankofa</td>\n",
              "      <td>Haile Gerima</td>\n",
              "      <td>Kofi Ghanaba, Oyafunmike Ogunlano, Alexandra D...</td>\n",
              "      <td>United States</td>\n",
              "      <td>September 24, 2021</td>\n",
              "      <td>1993</td>\n",
              "      <td>TV-MA</td>\n",
              "      <td>125</td>\n",
              "      <td>Dramas, Independent Movies, International Movies</td>\n",
              "      <td>On a photo shoot in Ghana, an American model s...</td>\n",
              "    </tr>\n",
              "    <tr>\n",
              "      <th>7</th>\n",
              "      <td>s8</td>\n",
              "      <td>Movie</td>\n",
              "      <td>Sankofa</td>\n",
              "      <td>Haile Gerima</td>\n",
              "      <td>Kofi Ghanaba, Oyafunmike Ogunlano, Alexandra D...</td>\n",
              "      <td>Ghana</td>\n",
              "      <td>September 24, 2021</td>\n",
              "      <td>1993</td>\n",
              "      <td>TV-MA</td>\n",
              "      <td>125</td>\n",
              "      <td>Dramas, Independent Movies, International Movies</td>\n",
              "      <td>On a photo shoot in Ghana, an American model s...</td>\n",
              "    </tr>\n",
              "    <tr>\n",
              "      <th>7</th>\n",
              "      <td>s8</td>\n",
              "      <td>Movie</td>\n",
              "      <td>Sankofa</td>\n",
              "      <td>Haile Gerima</td>\n",
              "      <td>Kofi Ghanaba, Oyafunmike Ogunlano, Alexandra D...</td>\n",
              "      <td>Burkina Faso</td>\n",
              "      <td>September 24, 2021</td>\n",
              "      <td>1993</td>\n",
              "      <td>TV-MA</td>\n",
              "      <td>125</td>\n",
              "      <td>Dramas, Independent Movies, International Movies</td>\n",
              "      <td>On a photo shoot in Ghana, an American model s...</td>\n",
              "    </tr>\n",
              "    <tr>\n",
              "      <th>7</th>\n",
              "      <td>s8</td>\n",
              "      <td>Movie</td>\n",
              "      <td>Sankofa</td>\n",
              "      <td>Haile Gerima</td>\n",
              "      <td>Kofi Ghanaba, Oyafunmike Ogunlano, Alexandra D...</td>\n",
              "      <td>United Kingdom</td>\n",
              "      <td>September 24, 2021</td>\n",
              "      <td>1993</td>\n",
              "      <td>TV-MA</td>\n",
              "      <td>125</td>\n",
              "      <td>Dramas, Independent Movies, International Movies</td>\n",
              "      <td>On a photo shoot in Ghana, an American model s...</td>\n",
              "    </tr>\n",
              "    <tr>\n",
              "      <th>7</th>\n",
              "      <td>s8</td>\n",
              "      <td>Movie</td>\n",
              "      <td>Sankofa</td>\n",
              "      <td>Haile Gerima</td>\n",
              "      <td>Kofi Ghanaba, Oyafunmike Ogunlano, Alexandra D...</td>\n",
              "      <td>Germany</td>\n",
              "      <td>September 24, 2021</td>\n",
              "      <td>1993</td>\n",
              "      <td>TV-MA</td>\n",
              "      <td>125</td>\n",
              "      <td>Dramas, Independent Movies, International Movies</td>\n",
              "      <td>On a photo shoot in Ghana, an American model s...</td>\n",
              "    </tr>\n",
              "  </tbody>\n",
              "</table>\n",
              "</div>\n",
              "      <button class=\"colab-df-convert\" onclick=\"convertToInteractive('df-9547b607-d4cf-4f02-866d-65f72c974fc4')\"\n",
              "              title=\"Convert this dataframe to an interactive table.\"\n",
              "              style=\"display:none;\">\n",
              "        \n",
              "  <svg xmlns=\"http://www.w3.org/2000/svg\" height=\"24px\"viewBox=\"0 0 24 24\"\n",
              "       width=\"24px\">\n",
              "    <path d=\"M0 0h24v24H0V0z\" fill=\"none\"/>\n",
              "    <path d=\"M18.56 5.44l.94 2.06.94-2.06 2.06-.94-2.06-.94-.94-2.06-.94 2.06-2.06.94zm-11 1L8.5 8.5l.94-2.06 2.06-.94-2.06-.94L8.5 2.5l-.94 2.06-2.06.94zm10 10l.94 2.06.94-2.06 2.06-.94-2.06-.94-.94-2.06-.94 2.06-2.06.94z\"/><path d=\"M17.41 7.96l-1.37-1.37c-.4-.4-.92-.59-1.43-.59-.52 0-1.04.2-1.43.59L10.3 9.45l-7.72 7.72c-.78.78-.78 2.05 0 2.83L4 21.41c.39.39.9.59 1.41.59.51 0 1.02-.2 1.41-.59l7.78-7.78 2.81-2.81c.8-.78.8-2.07 0-2.86zM5.41 20L4 18.59l7.72-7.72 1.47 1.35L5.41 20z\"/>\n",
              "  </svg>\n",
              "      </button>\n",
              "      \n",
              "  <style>\n",
              "    .colab-df-container {\n",
              "      display:flex;\n",
              "      flex-wrap:wrap;\n",
              "      gap: 12px;\n",
              "    }\n",
              "\n",
              "    .colab-df-convert {\n",
              "      background-color: #E8F0FE;\n",
              "      border: none;\n",
              "      border-radius: 50%;\n",
              "      cursor: pointer;\n",
              "      display: none;\n",
              "      fill: #1967D2;\n",
              "      height: 32px;\n",
              "      padding: 0 0 0 0;\n",
              "      width: 32px;\n",
              "    }\n",
              "\n",
              "    .colab-df-convert:hover {\n",
              "      background-color: #E2EBFA;\n",
              "      box-shadow: 0px 1px 2px rgba(60, 64, 67, 0.3), 0px 1px 3px 1px rgba(60, 64, 67, 0.15);\n",
              "      fill: #174EA6;\n",
              "    }\n",
              "\n",
              "    [theme=dark] .colab-df-convert {\n",
              "      background-color: #3B4455;\n",
              "      fill: #D2E3FC;\n",
              "    }\n",
              "\n",
              "    [theme=dark] .colab-df-convert:hover {\n",
              "      background-color: #434B5C;\n",
              "      box-shadow: 0px 1px 3px 1px rgba(0, 0, 0, 0.15);\n",
              "      filter: drop-shadow(0px 1px 2px rgba(0, 0, 0, 0.3));\n",
              "      fill: #FFFFFF;\n",
              "    }\n",
              "  </style>\n",
              "\n",
              "      <script>\n",
              "        const buttonEl =\n",
              "          document.querySelector('#df-9547b607-d4cf-4f02-866d-65f72c974fc4 button.colab-df-convert');\n",
              "        buttonEl.style.display =\n",
              "          google.colab.kernel.accessAllowed ? 'block' : 'none';\n",
              "\n",
              "        async function convertToInteractive(key) {\n",
              "          const element = document.querySelector('#df-9547b607-d4cf-4f02-866d-65f72c974fc4');\n",
              "          const dataTable =\n",
              "            await google.colab.kernel.invokeFunction('convertToInteractive',\n",
              "                                                     [key], {});\n",
              "          if (!dataTable) return;\n",
              "\n",
              "          const docLinkHtml = 'Like what you see? Visit the ' +\n",
              "            '<a target=\"_blank\" href=https://colab.research.google.com/notebooks/data_table.ipynb>data table notebook</a>'\n",
              "            + ' to learn more about interactive tables.';\n",
              "          element.innerHTML = '';\n",
              "          dataTable['output_type'] = 'display_data';\n",
              "          await google.colab.output.renderOutput(dataTable, element);\n",
              "          const docLink = document.createElement('div');\n",
              "          docLink.innerHTML = docLinkHtml;\n",
              "          element.appendChild(docLink);\n",
              "        }\n",
              "      </script>\n",
              "    </div>\n",
              "  </div>\n",
              "  "
            ]
          },
          "metadata": {},
          "execution_count": 43
        }
      ],
      "source": [
        "df_country.head()"
      ]
    },
    {
      "cell_type": "code",
      "execution_count": 44,
      "id": "2171c63f",
      "metadata": {
        "id": "2171c63f"
      },
      "outputs": [],
      "source": [
        "# list(df_country['director'].unique())"
      ]
    },
    {
      "cell_type": "code",
      "execution_count": 45,
      "id": "7dea998b",
      "metadata": {
        "id": "7dea998b"
      },
      "outputs": [],
      "source": [
        "# Some of the Movie has more than one director\n",
        "df_director = df_country.assign(director=df_country['director'].str.split(\", \")).explode('director')\n",
        "grp_country_director = df_director.groupby([\"country\",\"director\"])[\"title\"].count().sort_values(ascending=False)"
      ]
    },
    {
      "cell_type": "code",
      "execution_count": 46,
      "id": "e8d61ab1",
      "metadata": {
        "colab": {
          "base_uri": "https://localhost:8080/"
        },
        "id": "e8d61ab1",
        "outputId": "04b62586-2967-4db4-81cf-c43617b3b1a7"
      },
      "outputs": [
        {
          "output_type": "execute_result",
          "data": {
            "text/plain": [
              "country        director           \n",
              "United States  Jay Karas              15\n",
              "               Marcus Raboy           14\n",
              "Philippines    Cathy Garcia-Molina    13\n",
              "Mexico         Jan Suter              12\n",
              "United States  Martin Scorsese        12\n",
              "Name: title, dtype: int64"
            ]
          },
          "metadata": {},
          "execution_count": 46
        }
      ],
      "source": [
        "grp_country_director.head()"
      ]
    },
    {
      "cell_type": "code",
      "execution_count": 47,
      "id": "4204503d",
      "metadata": {
        "colab": {
          "base_uri": "https://localhost:8080/",
          "height": 334
        },
        "id": "4204503d",
        "outputId": "b2c5ddeb-7df8-40ff-9ce1-d691dbaa3f2b"
      },
      "outputs": [
        {
          "output_type": "display_data",
          "data": {
            "text/plain": [
              "<Figure size 648x360 with 1 Axes>"
            ],
            "image/png": "[encoded data removed]"
          },
          "metadata": {
            "needs_background": "light"
          }
        }
      ],
      "source": [
        "# Most movies directed in USA\n",
        "plt.figure(figsize=(9,5))\n",
        "sns.barplot(x=list(grp_country_director[\"United States\"].head().index),y=list(grp_country_director[\"United States\"].head().values))\n",
        "plt.xlabel(\"Directors\")\n",
        "plt.ylabel(\"Number of Movies\")\n",
        "plt.show()"
      ]
    },
    {
      "cell_type": "markdown",
      "id": "b31ff328",
      "metadata": {
        "id": "b31ff328"
      },
      "source": [
        "In US, most number of movies are directed by **Jay Karas**  , closely followed by **Marcus Raboy**"
      ]
    },
    {
      "cell_type": "code",
      "execution_count": 48,
      "id": "36960234",
      "metadata": {
        "colab": {
          "base_uri": "https://localhost:8080/",
          "height": 334
        },
        "id": "36960234",
        "outputId": "3f380569-e069-4489-bd42-40565bde0d4e"
      },
      "outputs": [
        {
          "output_type": "display_data",
          "data": {
            "text/plain": [
              "<Figure size 648x360 with 1 Axes>"
            ],
            "image/png": "[encoded data removed]"
          },
          "metadata": {
            "needs_background": "light"
          }
        }
      ],
      "source": [
        "# Most movies directed in India\n",
        "plt.figure(figsize=(9,5))\n",
        "sns.barplot(x=list(grp_country_director[\"India\"].head().index),y=list(grp_country_director[\"India\"].head().values))\n",
        "plt.xlabel(\"Directors\")\n",
        "plt.ylabel(\"Number of Movies\")\n",
        "plt.show()"
      ]
    },
    {
      "cell_type": "markdown",
      "id": "b4e45759",
      "metadata": {
        "id": "b4e45759"
      },
      "source": [
        "In India, most number of movies are directed by **David Dhawan**, closely followed by **Anurag Kashyap**"
      ]
    },
    {
      "cell_type": "code",
      "execution_count": 49,
      "id": "4f86b447",
      "metadata": {
        "colab": {
          "base_uri": "https://localhost:8080/",
          "height": 334
        },
        "id": "4f86b447",
        "outputId": "95da5686-719d-459c-8ae3-9888d1da5304"
      },
      "outputs": [
        {
          "output_type": "display_data",
          "data": {
            "text/plain": [
              "<Figure size 648x360 with 1 Axes>"
            ],
            "image/png": "[encoded data removed]"
          },
          "metadata": {
            "needs_background": "light"
          }
        }
      ],
      "source": [
        "# Most movies directed in Philippines\n",
        "plt.figure(figsize=(9,5))\n",
        "sns.barplot(x=list(grp_country_director[\"Philippines\"].head().index),y=list(grp_country_director[\"Philippines\"].head().values))\n",
        "plt.xlabel(\"Directors\")\n",
        "plt.ylabel(\"Number of Movies\")\n",
        "plt.show()"
      ]
    },
    {
      "cell_type": "markdown",
      "id": "f19ab0ca",
      "metadata": {
        "id": "f19ab0ca"
      },
      "source": [
        "In Philippines, most number of movies are directed by Cathy Garcia-Molina"
      ]
    },
    {
      "cell_type": "markdown",
      "id": "7f36b876",
      "metadata": {
        "id": "7f36b876"
      },
      "source": [
        "#### Directors and Genre "
      ]
    },
    {
      "cell_type": "code",
      "execution_count": 50,
      "id": "984627be",
      "metadata": {
        "id": "984627be"
      },
      "outputs": [],
      "source": [
        "df_genre = df_movie.assign(listed_in=df_movie['listed_in'].str.split(\", \")).explode('listed_in')"
      ]
    },
    {
      "cell_type": "code",
      "execution_count": 51,
      "id": "01c3f175",
      "metadata": {
        "colab": {
          "base_uri": "https://localhost:8080/",
          "height": 317
        },
        "id": "01c3f175",
        "outputId": "015d4b45-2e28-46a8-8948-1229182b9f62"
      },
      "outputs": [
        {
          "output_type": "display_data",
          "data": {
            "text/plain": [
              "<Figure size 1440x360 with 1 Axes>"
            ],
            "image/png": "[encoded data removed]"
          },
          "metadata": {
            "needs_background": "light"
          }
        }
      ],
      "source": [
        "# Most movies directed in USA\n",
        "plt.figure(figsize=(20,5))\n",
        "sns.barplot(x=list(df_genre[\"listed_in\"].value_counts().head(8).index),y=list(df_genre[\"listed_in\"].value_counts().head(8).values))\n",
        "plt.xlabel(\"Genre\")\n",
        "plt.ylabel(\"Number of Movies\")\n",
        "plt.show()"
      ]
    },
    {
      "cell_type": "markdown",
      "id": "d132e4c1",
      "metadata": {
        "id": "d132e4c1"
      },
      "source": [
        "Top 8 Genre of movies available on Netflix. People likes to watch **International Movies, Dramas and Comedies**.\n",
        "Let us check the top directors in these categories"
      ]
    },
    {
      "cell_type": "code",
      "execution_count": 52,
      "id": "f5aaf122",
      "metadata": {
        "id": "f5aaf122"
      },
      "outputs": [],
      "source": [
        "grp_genre_director = df_genre.groupby([\"listed_in\",\"director\"])[\"title\"].count().sort_values(ascending=False)"
      ]
    },
    {
      "cell_type": "code",
      "execution_count": 53,
      "id": "bb343909",
      "metadata": {
        "colab": {
          "base_uri": "https://localhost:8080/",
          "height": 350
        },
        "id": "bb343909",
        "outputId": "00f99f55-e92d-408c-8285-0b40676c1186"
      },
      "outputs": [
        {
          "output_type": "display_data",
          "data": {
            "text/plain": [
              "<Figure size 648x360 with 1 Axes>"
            ],
            "image/png": "[encoded data removed]"
          },
          "metadata": {
            "needs_background": "light"
          }
        }
      ],
      "source": [
        "# Top directors in International Movies\n",
        "plt.figure(figsize=(9,5))\n",
        "sns.barplot(x=list(grp_genre_director[\"International Movies\"].head().index),y=list(grp_genre_director[\"International Movies\"].head().values))\n",
        "plt.xlabel(\"Directors\")\n",
        "plt.ylabel(\"Number of Movies\")\n",
        "plt.title(\"International Movies\")\n",
        "plt.show()"
      ]
    },
    {
      "cell_type": "code",
      "execution_count": 54,
      "id": "06fa984b",
      "metadata": {
        "colab": {
          "base_uri": "https://localhost:8080/",
          "height": 350
        },
        "id": "06fa984b",
        "outputId": "8d45834f-e7a6-46e6-df37-66a3112e0950"
      },
      "outputs": [
        {
          "output_type": "display_data",
          "data": {
            "text/plain": [
              "<Figure size 648x360 with 1 Axes>"
            ],
            "image/png": "[encoded data removed]"
          },
          "metadata": {
            "needs_background": "light"
          }
        }
      ],
      "source": [
        "# Top directors in Dramas\n",
        "plt.figure(figsize=(9,5))\n",
        "sns.barplot(x=list(grp_genre_director[\"Dramas\"].head().index),y=list(grp_genre_director[\"Dramas\"].head().values))\n",
        "plt.xlabel(\"Directors\")\n",
        "plt.ylabel(\"Number of Movies\")\n",
        "plt.title(\"Dramas\")\n",
        "plt.show()"
      ]
    },
    {
      "cell_type": "code",
      "execution_count": 55,
      "id": "ab25e619",
      "metadata": {
        "colab": {
          "base_uri": "https://localhost:8080/",
          "height": 350
        },
        "id": "ab25e619",
        "outputId": "d4e60c7d-c978-4599-9818-c4b62d0903ab"
      },
      "outputs": [
        {
          "output_type": "display_data",
          "data": {
            "text/plain": [
              "<Figure size 648x360 with 1 Axes>"
            ],
            "image/png": "[encoded data removed]"
          },
          "metadata": {
            "needs_background": "light"
          }
        }
      ],
      "source": [
        "# Top directors in Comedies\n",
        "plt.figure(figsize=(9,5))\n",
        "sns.barplot(x=list(grp_genre_director[\"Comedies\"].head().index),y=list(grp_genre_director[\"Comedies\"].head().values))\n",
        "plt.xlabel(\"Directors\")\n",
        "plt.ylabel(\"Number of Movies\")\n",
        "plt.title(\"Comedy\")\n",
        "plt.show()"
      ]
    },
    {
      "cell_type": "markdown",
      "id": "503d4ae1",
      "metadata": {
        "id": "503d4ae1"
      },
      "source": [
        "#### Directors and Cast in India"
      ]
    },
    {
      "cell_type": "code",
      "execution_count": 56,
      "id": "911968f8",
      "metadata": {
        "id": "911968f8"
      },
      "outputs": [],
      "source": [
        "df_movie_india = df_country[df_country[\"country\"] == \"India\"]\n",
        "df_movie_india = df_movie_india.assign(director=df_movie_india['director'].str.split(\", \")).explode('director')\n",
        "df_cast = df_movie_india.assign(cast=df_movie_india['cast'].str.split(\", \")).explode('cast')"
      ]
    },
    {
      "cell_type": "code",
      "execution_count": 57,
      "id": "9fe37b1d",
      "metadata": {
        "id": "9fe37b1d"
      },
      "outputs": [],
      "source": [
        "grp_director_cast = df_cast.groupby([\"director\",\"cast\"])[\"title\"].count().sort_values(ascending=False)"
      ]
    },
    {
      "cell_type": "code",
      "execution_count": 58,
      "id": "e0ef6770",
      "metadata": {
        "id": "e0ef6770"
      },
      "outputs": [],
      "source": [
        "top_directors_in_india = list(grp_country_director[\"India\"].head().index)"
      ]
    },
    {
      "cell_type": "code",
      "execution_count": 59,
      "id": "446a5cc6",
      "metadata": {
        "colab": {
          "base_uri": "https://localhost:8080/"
        },
        "id": "446a5cc6",
        "outputId": "711a71a1-3264-49b5-978e-efb2cfe8160f"
      },
      "outputs": [
        {
          "output_type": "execute_result",
          "data": {
            "text/plain": [
              "['David Dhawan',\n",
              " 'Anurag Kashyap',\n",
              " 'Umesh Mehra',\n",
              " 'Dibakar Banerjee',\n",
              " 'Ram Gopal Varma']"
            ]
          },
          "metadata": {},
          "execution_count": 59
        }
      ],
      "source": [
        "top_directors_in_india"
      ]
    },
    {
      "cell_type": "code",
      "execution_count": 60,
      "id": "80b37e52",
      "metadata": {
        "colab": {
          "base_uri": "https://localhost:8080/",
          "height": 1000
        },
        "id": "80b37e52",
        "outputId": "2c05e00a-7878-4f2a-a517-c0574cd8199a"
      },
      "outputs": [
        {
          "output_type": "display_data",
          "data": {
            "text/plain": [
              "<Figure size 648x360 with 1 Axes>"
            ],
            "image/png": "[encoded data removed]"
          },
          "metadata": {
            "needs_background": "light"
          }
        },
        {
          "output_type": "display_data",
          "data": {
            "text/plain": [
              "<Figure size 648x360 with 1 Axes>"
            ],
            "image/png": "[encoded data removed]"
          },
          "metadata": {
            "needs_background": "light"
          }
        },
        {
          "output_type": "display_data",
          "data": {
            "text/plain": [
              "<Figure size 648x360 with 1 Axes>"
            ],
            "image/png": "[encoded data removed]"
          },
          "metadata": {
            "needs_background": "light"
          }
        },
        {
          "output_type": "display_data",
          "data": {
            "text/plain": [
              "<Figure size 648x360 with 1 Axes>"
            ],
            "image/png": "[encoded data removed]"
          },
          "metadata": {
            "needs_background": "light"
          }
        },
        {
          "output_type": "display_data",
          "data": {
            "text/plain": [
              "<Figure size 648x360 with 1 Axes>"
            ],
            "image/png": "[encoded data removed]"
          },
          "metadata": {
            "needs_background": "light"
          }
        }
      ],
      "source": [
        "#  Actors/Cast for each of the Directors\n",
        "for director in top_directors_in_india:\n",
        "    plt.figure(figsize=(9,5))\n",
        "    sns.barplot(x=list(grp_director_cast[director].head().index),y=list(grp_director_cast[director].head().values))\n",
        "    plt.xlabel(\"Actors\")\n",
        "    plt.ylabel(\"Number of Movies\")\n",
        "    plt.title(director)\n",
        "    plt.show()"
      ]
    },
    {
      "cell_type": "markdown",
      "id": "c3b18143",
      "metadata": {
        "id": "c3b18143"
      },
      "source": [
        "#### Country and Genre "
      ]
    },
    {
      "cell_type": "code",
      "execution_count": 61,
      "id": "8fb3d7d7",
      "metadata": {
        "id": "8fb3d7d7"
      },
      "outputs": [],
      "source": [
        "df_country_genre = df_country.assign(listed_in=df_country['listed_in'].str.split(\", \")).explode('listed_in')"
      ]
    },
    {
      "cell_type": "code",
      "execution_count": 62,
      "id": "44a2d94b",
      "metadata": {
        "id": "44a2d94b"
      },
      "outputs": [],
      "source": [
        "df_country_genre = df_country_genre.loc[df_country_genre[\"country\"].isin(list(top_countries.index))]"
      ]
    },
    {
      "cell_type": "code",
      "execution_count": 63,
      "id": "38d9096d",
      "metadata": {
        "id": "38d9096d"
      },
      "outputs": [],
      "source": [
        "top_country_genre = df_country_genre.groupby([\"country\"])[\"listed_in\"].value_counts().groupby(level=0).head(3).sort_values(ascending=False).to_frame(\"counts\").reset_index()"
      ]
    },
    {
      "cell_type": "code",
      "execution_count": 64,
      "id": "03497093",
      "metadata": {
        "colab": {
          "base_uri": "https://localhost:8080/",
          "height": 623
        },
        "id": "03497093",
        "outputId": "375f4f48-f568-49d3-a857-e1df7f0e9a41"
      },
      "outputs": [
        {
          "output_type": "execute_result",
          "data": {
            "text/plain": [
              "<matplotlib.axes._subplots.AxesSubplot at 0x7fb6e9460730>"
            ]
          },
          "metadata": {},
          "execution_count": 64
        },
        {
          "output_type": "display_data",
          "data": {
            "text/plain": [
              "<Figure size 1080x720 with 1 Axes>"
            ],
            "image/png": "[encoded data removed]"
          },
          "metadata": {
            "needs_background": "light"
          }
        }
      ],
      "source": [
        "plt.figure(figsize=(15,10))\n",
        "sns.barplot(y=\"country\", x=\"counts\", data=top_country_genre, hue=\"listed_in\")"
      ]
    },
    {
      "cell_type": "markdown",
      "id": "fbcf163f",
      "metadata": {
        "id": "fbcf163f"
      },
      "source": [
        "#### Best time to launch the Movie"
      ]
    },
    {
      "cell_type": "code",
      "execution_count": 65,
      "id": "7a6a6134",
      "metadata": {
        "colab": {
          "base_uri": "https://localhost:8080/",
          "height": 278
        },
        "id": "7a6a6134",
        "outputId": "562be367-7026-4e3b-925a-3c36365afce9"
      },
      "outputs": [
        {
          "output_type": "execute_result",
          "data": {
            "text/plain": [
              "  show_id   type         title        director  \\\n",
              "7      s8  Movie       Sankofa    Haile Gerima   \n",
              "9     s10  Movie  The Starling  Theodore Melfi   \n",
              "\n",
              "                                                cast  \\\n",
              "7  Kofi Ghanaba, Oyafunmike Ogunlano, Alexandra D...   \n",
              "9  Melissa McCarthy, Chris O'Dowd, Kevin Kline, T...   \n",
              "\n",
              "                                             country          date_added  \\\n",
              "7  United States, Ghana, Burkina Faso, United Kin...  September 24, 2021   \n",
              "9                                      United States  September 24, 2021   \n",
              "\n",
              "   release_year rating  duration  \\\n",
              "7          1993  TV-MA       125   \n",
              "9          2021  PG-13       104   \n",
              "\n",
              "                                          listed_in  \\\n",
              "7  Dramas, Independent Movies, International Movies   \n",
              "9                                  Comedies, Dramas   \n",
              "\n",
              "                                         description  \n",
              "7  On a photo shoot in Ghana, an American model s...  \n",
              "9  A woman adjusting to life after a loss contend...  "
            ],
            "text/html": [
              "\n",
              "  <div id=\"df-f487377d-ed1c-4f0a-b48d-bb1c959dfe6e\">\n",
              "    <div class=\"colab-df-container\">\n",
              "      <div>\n",
              "<style scoped>\n",
              "    .dataframe tbody tr th:only-of-type {\n",
              "        vertical-align: middle;\n",
              "    }\n",
              "\n",
              "    .dataframe tbody tr th {\n",
              "        vertical-align: top;\n",
              "    }\n",
              "\n",
              "    .dataframe thead th {\n",
              "        text-align: right;\n",
              "    }\n",
              "</style>\n",
              "<table border=\"1\" class=\"dataframe\">\n",
              "  <thead>\n",
              "    <tr style=\"text-align: right;\">\n",
              "      <th></th>\n",
              "      <th>show_id</th>\n",
              "      <th>type</th>\n",
              "      <th>title</th>\n",
              "      <th>director</th>\n",
              "      <th>cast</th>\n",
              "      <th>country</th>\n",
              "      <th>date_added</th>\n",
              "      <th>release_year</th>\n",
              "      <th>rating</th>\n",
              "      <th>duration</th>\n",
              "      <th>listed_in</th>\n",
              "      <th>description</th>\n",
              "    </tr>\n",
              "  </thead>\n",
              "  <tbody>\n",
              "    <tr>\n",
              "      <th>7</th>\n",
              "      <td>s8</td>\n",
              "      <td>Movie</td>\n",
              "      <td>Sankofa</td>\n",
              "      <td>Haile Gerima</td>\n",
              "      <td>Kofi Ghanaba, Oyafunmike Ogunlano, Alexandra D...</td>\n",
              "      <td>United States, Ghana, Burkina Faso, United Kin...</td>\n",
              "      <td>September 24, 2021</td>\n",
              "      <td>1993</td>\n",
              "      <td>TV-MA</td>\n",
              "      <td>125</td>\n",
              "      <td>Dramas, Independent Movies, International Movies</td>\n",
              "      <td>On a photo shoot in Ghana, an American model s...</td>\n",
              "    </tr>\n",
              "    <tr>\n",
              "      <th>9</th>\n",
              "      <td>s10</td>\n",
              "      <td>Movie</td>\n",
              "      <td>The Starling</td>\n",
              "      <td>Theodore Melfi</td>\n",
              "      <td>Melissa McCarthy, Chris O'Dowd, Kevin Kline, T...</td>\n",
              "      <td>United States</td>\n",
              "      <td>September 24, 2021</td>\n",
              "      <td>2021</td>\n",
              "      <td>PG-13</td>\n",
              "      <td>104</td>\n",
              "      <td>Comedies, Dramas</td>\n",
              "      <td>A woman adjusting to life after a loss contend...</td>\n",
              "    </tr>\n",
              "  </tbody>\n",
              "</table>\n",
              "</div>\n",
              "      <button class=\"colab-df-convert\" onclick=\"convertToInteractive('df-f487377d-ed1c-4f0a-b48d-bb1c959dfe6e')\"\n",
              "              title=\"Convert this dataframe to an interactive table.\"\n",
              "              style=\"display:none;\">\n",
              "        \n",
              "  <svg xmlns=\"http://www.w3.org/2000/svg\" height=\"24px\"viewBox=\"0 0 24 24\"\n",
              "       width=\"24px\">\n",
              "    <path d=\"M0 0h24v24H0V0z\" fill=\"none\"/>\n",
              "    <path d=\"M18.56 5.44l.94 2.06.94-2.06 2.06-.94-2.06-.94-.94-2.06-.94 2.06-2.06.94zm-11 1L8.5 8.5l.94-2.06 2.06-.94-2.06-.94L8.5 2.5l-.94 2.06-2.06.94zm10 10l.94 2.06.94-2.06 2.06-.94-2.06-.94-.94-2.06-.94 2.06-2.06.94z\"/><path d=\"M17.41 7.96l-1.37-1.37c-.4-.4-.92-.59-1.43-.59-.52 0-1.04.2-1.43.59L10.3 9.45l-7.72 7.72c-.78.78-.78 2.05 0 2.83L4 21.41c.39.39.9.59 1.41.59.51 0 1.02-.2 1.41-.59l7.78-7.78 2.81-2.81c.8-.78.8-2.07 0-2.86zM5.41 20L4 18.59l7.72-7.72 1.47 1.35L5.41 20z\"/>\n",
              "  </svg>\n",
              "      </button>\n",
              "      \n",
              "  <style>\n",
              "    .colab-df-container {\n",
              "      display:flex;\n",
              "      flex-wrap:wrap;\n",
              "      gap: 12px;\n",
              "    }\n",
              "\n",
              "    .colab-df-convert {\n",
              "      background-color: #E8F0FE;\n",
              "      border: none;\n",
              "      border-radius: 50%;\n",
              "      cursor: pointer;\n",
              "      display: none;\n",
              "      fill: #1967D2;\n",
              "      height: 32px;\n",
              "      padding: 0 0 0 0;\n",
              "      width: 32px;\n",
              "    }\n",
              "\n",
              "    .colab-df-convert:hover {\n",
              "      background-color: #E2EBFA;\n",
              "      box-shadow: 0px 1px 2px rgba(60, 64, 67, 0.3), 0px 1px 3px 1px rgba(60, 64, 67, 0.15);\n",
              "      fill: #174EA6;\n",
              "    }\n",
              "\n",
              "    [theme=dark] .colab-df-convert {\n",
              "      background-color: #3B4455;\n",
              "      fill: #D2E3FC;\n",
              "    }\n",
              "\n",
              "    [theme=dark] .colab-df-convert:hover {\n",
              "      background-color: #434B5C;\n",
              "      box-shadow: 0px 1px 3px 1px rgba(0, 0, 0, 0.15);\n",
              "      filter: drop-shadow(0px 1px 2px rgba(0, 0, 0, 0.3));\n",
              "      fill: #FFFFFF;\n",
              "    }\n",
              "  </style>\n",
              "\n",
              "      <script>\n",
              "        const buttonEl =\n",
              "          document.querySelector('#df-f487377d-ed1c-4f0a-b48d-bb1c959dfe6e button.colab-df-convert');\n",
              "        buttonEl.style.display =\n",
              "          google.colab.kernel.accessAllowed ? 'block' : 'none';\n",
              "\n",
              "        async function convertToInteractive(key) {\n",
              "          const element = document.querySelector('#df-f487377d-ed1c-4f0a-b48d-bb1c959dfe6e');\n",
              "          const dataTable =\n",
              "            await google.colab.kernel.invokeFunction('convertToInteractive',\n",
              "                                                     [key], {});\n",
              "          if (!dataTable) return;\n",
              "\n",
              "          const docLinkHtml = 'Like what you see? Visit the ' +\n",
              "            '<a target=\"_blank\" href=https://colab.research.google.com/notebooks/data_table.ipynb>data table notebook</a>'\n",
              "            + ' to learn more about interactive tables.';\n",
              "          element.innerHTML = '';\n",
              "          dataTable['output_type'] = 'display_data';\n",
              "          await google.colab.output.renderOutput(dataTable, element);\n",
              "          const docLink = document.createElement('div');\n",
              "          docLink.innerHTML = docLinkHtml;\n",
              "          element.appendChild(docLink);\n",
              "        }\n",
              "      </script>\n",
              "    </div>\n",
              "  </div>\n",
              "  "
            ]
          },
          "metadata": {},
          "execution_count": 65
        }
      ],
      "source": [
        "df_movie.head(2)"
      ]
    },
    {
      "cell_type": "code",
      "execution_count": 66,
      "id": "53ec1998",
      "metadata": {
        "id": "53ec1998"
      },
      "outputs": [],
      "source": [
        "df_movie[\"date_added\"] = pd.to_datetime(df_movie[\"date_added\"])"
      ]
    },
    {
      "cell_type": "code",
      "execution_count": 67,
      "id": "3a25f79c",
      "metadata": {
        "id": "3a25f79c"
      },
      "outputs": [],
      "source": [
        "df_movie[\"month\"] = df_movie[\"date_added\"].dt.strftime('%b')"
      ]
    },
    {
      "cell_type": "code",
      "execution_count": 68,
      "id": "16932b9e",
      "metadata": {
        "id": "16932b9e"
      },
      "outputs": [],
      "source": [
        "movie_month = df_movie[\"month\"].value_counts().reset_index().rename(columns = {'index' : 'month', 'month' : 'count'})"
      ]
    },
    {
      "cell_type": "code",
      "execution_count": 69,
      "id": "11405d59",
      "metadata": {
        "colab": {
          "base_uri": "https://localhost:8080/",
          "height": 299
        },
        "id": "11405d59",
        "outputId": "4fc8cdaa-b049-44de-e421-0e9846575bc0"
      },
      "outputs": [
        {
          "output_type": "execute_result",
          "data": {
            "text/plain": [
              "<matplotlib.axes._subplots.AxesSubplot at 0x7fb6e6db0af0>"
            ]
          },
          "metadata": {},
          "execution_count": 69
        },
        {
          "output_type": "display_data",
          "data": {
            "text/plain": [
              "<Figure size 432x288 with 1 Axes>"
            ],
            "image/png": "[encoded data removed]"
          },
          "metadata": {
            "needs_background": "light"
          }
        }
      ],
      "source": [
        "sns.barplot(data=movie_month, x=\"month\", y=\"count\")"
      ]
    },
    {
      "cell_type": "markdown",
      "id": "a1e75b07",
      "metadata": {
        "id": "a1e75b07"
      },
      "source": [
        "Most directors like to launch their Movies in the month of Oct|Jan and Dec, because of the holiday season (Christmas , Halloween and Also Diwali)\n",
        "High Seasonality trends here - To increase the viewership"
      ]
    },
    {
      "cell_type": "code",
      "execution_count": 70,
      "id": "ad1d049f",
      "metadata": {
        "id": "ad1d049f"
      },
      "outputs": [],
      "source": [
        "df_movie['dayOfWeek'] = df_movie['date_added'].dt.day_name()"
      ]
    },
    {
      "cell_type": "code",
      "execution_count": 71,
      "id": "e30a5113",
      "metadata": {
        "id": "e30a5113"
      },
      "outputs": [],
      "source": [
        "movie_day = df_movie[\"dayOfWeek\"].value_counts().reset_index().rename(columns = {'index' : 'Day', 'dayOfWeek' : 'count'})"
      ]
    },
    {
      "cell_type": "code",
      "execution_count": 72,
      "id": "93fcdc7f",
      "metadata": {
        "colab": {
          "base_uri": "https://localhost:8080/",
          "height": 296
        },
        "id": "93fcdc7f",
        "outputId": "831e5c1f-efa2-4121-f896-d7705736415b"
      },
      "outputs": [
        {
          "output_type": "execute_result",
          "data": {
            "text/plain": [
              "<matplotlib.axes._subplots.AxesSubplot at 0x7fb6e9a8b6a0>"
            ]
          },
          "metadata": {},
          "execution_count": 72
        },
        {
          "output_type": "display_data",
          "data": {
            "text/plain": [
              "<Figure size 432x288 with 1 Axes>"
            ],
            "image/png": "[encoded data removed]"
          },
          "metadata": {
            "needs_background": "light"
          }
        }
      ],
      "source": [
        "sns.barplot(data=movie_day, x=\"Day\", y=\"count\")"
      ]
    },
    {
      "cell_type": "markdown",
      "id": "7f02b3b3",
      "metadata": {
        "id": "7f02b3b3"
      },
      "source": [
        "Here Again because of weekends, Most of the movies are released during Friday on Netflix"
      ]
    },
    {
      "cell_type": "markdown",
      "id": "b4da2828",
      "metadata": {
        "id": "b4da2828"
      },
      "source": [
        "### TV Shows "
      ]
    },
    {
      "cell_type": "code",
      "execution_count": 73,
      "id": "7bb079dd",
      "metadata": {
        "colab": {
          "base_uri": "https://localhost:8080/",
          "height": 493
        },
        "id": "7bb079dd",
        "outputId": "40e73663-133f-4961-a866-84a58a47f3d7"
      },
      "outputs": [
        {
          "output_type": "execute_result",
          "data": {
            "text/plain": [
              "  show_id     type                  title         director  \\\n",
              "1      s2  TV Show          Blood & Water              NaN   \n",
              "2      s3  TV Show              Ganglands  Julien Leclercq   \n",
              "3      s4  TV Show  Jailbirds New Orleans              NaN   \n",
              "4      s5  TV Show           Kota Factory              NaN   \n",
              "5      s6  TV Show          Midnight Mass    Mike Flanagan   \n",
              "\n",
              "                                                cast       country  \\\n",
              "1  Ama Qamata, Khosi Ngema, Gail Mabalane, Thaban...  South Africa   \n",
              "2  Sami Bouajila, Tracy Gotoas, Samuel Jouy, Nabi...           NaN   \n",
              "3                                                NaN           NaN   \n",
              "4  Mayur More, Jitendra Kumar, Ranjan Raj, Alam K...         India   \n",
              "5  Kate Siegel, Zach Gilford, Hamish Linklater, H...           NaN   \n",
              "\n",
              "           date_added  release_year rating   duration  \\\n",
              "1  September 24, 2021          2021  TV-MA  2 Seasons   \n",
              "2  September 24, 2021          2021  TV-MA   1 Season   \n",
              "3  September 24, 2021          2021  TV-MA   1 Season   \n",
              "4  September 24, 2021          2021  TV-MA  2 Seasons   \n",
              "5  September 24, 2021          2021  TV-MA   1 Season   \n",
              "\n",
              "                                           listed_in  \\\n",
              "1    International TV Shows, TV Dramas, TV Mysteries   \n",
              "2  Crime TV Shows, International TV Shows, TV Act...   \n",
              "3                             Docuseries, Reality TV   \n",
              "4  International TV Shows, Romantic TV Shows, TV ...   \n",
              "5                 TV Dramas, TV Horror, TV Mysteries   \n",
              "\n",
              "                                         description  \n",
              "1  After crossing paths at a party, a Cape Town t...  \n",
              "2  To protect his family from a powerful drug lor...  \n",
              "3  Feuds, flirtations and toilet talk go down amo...  \n",
              "4  In a city of coaching centers known to train I...  \n",
              "5  The arrival of a charismatic young priest brin...  "
            ],
            "text/html": [
              "\n",
              "  <div id=\"df-9bc33e45-359d-4a12-9ef0-ac594a411fb1\">\n",
              "    <div class=\"colab-df-container\">\n",
              "      <div>\n",
              "<style scoped>\n",
              "    .dataframe tbody tr th:only-of-type {\n",
              "        vertical-align: middle;\n",
              "    }\n",
              "\n",
              "    .dataframe tbody tr th {\n",
              "        vertical-align: top;\n",
              "    }\n",
              "\n",
              "    .dataframe thead th {\n",
              "        text-align: right;\n",
              "    }\n",
              "</style>\n",
              "<table border=\"1\" class=\"dataframe\">\n",
              "  <thead>\n",
              "    <tr style=\"text-align: right;\">\n",
              "      <th></th>\n",
              "      <th>show_id</th>\n",
              "      <th>type</th>\n",
              "      <th>title</th>\n",
              "      <th>director</th>\n",
              "      <th>cast</th>\n",
              "      <th>country</th>\n",
              "      <th>date_added</th>\n",
              "      <th>release_year</th>\n",
              "      <th>rating</th>\n",
              "      <th>duration</th>\n",
              "      <th>listed_in</th>\n",
              "      <th>description</th>\n",
              "    </tr>\n",
              "  </thead>\n",
              "  <tbody>\n",
              "    <tr>\n",
              "      <th>1</th>\n",
              "      <td>s2</td>\n",
              "      <td>TV Show</td>\n",
              "      <td>Blood &amp; Water</td>\n",
              "      <td>NaN</td>\n",
              "      <td>Ama Qamata, Khosi Ngema, Gail Mabalane, Thaban...</td>\n",
              "      <td>South Africa</td>\n",
              "      <td>September 24, 2021</td>\n",
              "      <td>2021</td>\n",
              "      <td>TV-MA</td>\n",
              "      <td>2 Seasons</td>\n",
              "      <td>International TV Shows, TV Dramas, TV Mysteries</td>\n",
              "      <td>After crossing paths at a party, a Cape Town t...</td>\n",
              "    </tr>\n",
              "    <tr>\n",
              "      <th>2</th>\n",
              "      <td>s3</td>\n",
              "      <td>TV Show</td>\n",
              "      <td>Ganglands</td>\n",
              "      <td>Julien Leclercq</td>\n",
              "      <td>Sami Bouajila, Tracy Gotoas, Samuel Jouy, Nabi...</td>\n",
              "      <td>NaN</td>\n",
              "      <td>September 24, 2021</td>\n",
              "      <td>2021</td>\n",
              "      <td>TV-MA</td>\n",
              "      <td>1 Season</td>\n",
              "      <td>Crime TV Shows, International TV Shows, TV Act...</td>\n",
              "      <td>To protect his family from a powerful drug lor...</td>\n",
              "    </tr>\n",
              "    <tr>\n",
              "      <th>3</th>\n",
              "      <td>s4</td>\n",
              "      <td>TV Show</td>\n",
              "      <td>Jailbirds New Orleans</td>\n",
              "      <td>NaN</td>\n",
              "      <td>NaN</td>\n",
              "      <td>NaN</td>\n",
              "      <td>September 24, 2021</td>\n",
              "      <td>2021</td>\n",
              "      <td>TV-MA</td>\n",
              "      <td>1 Season</td>\n",
              "      <td>Docuseries, Reality TV</td>\n",
              "      <td>Feuds, flirtations and toilet talk go down amo...</td>\n",
              "    </tr>\n",
              "    <tr>\n",
              "      <th>4</th>\n",
              "      <td>s5</td>\n",
              "      <td>TV Show</td>\n",
              "      <td>Kota Factory</td>\n",
              "      <td>NaN</td>\n",
              "      <td>Mayur More, Jitendra Kumar, Ranjan Raj, Alam K...</td>\n",
              "      <td>India</td>\n",
              "      <td>September 24, 2021</td>\n",
              "      <td>2021</td>\n",
              "      <td>TV-MA</td>\n",
              "      <td>2 Seasons</td>\n",
              "      <td>International TV Shows, Romantic TV Shows, TV ...</td>\n",
              "      <td>In a city of coaching centers known to train I...</td>\n",
              "    </tr>\n",
              "    <tr>\n",
              "      <th>5</th>\n",
              "      <td>s6</td>\n",
              "      <td>TV Show</td>\n",
              "      <td>Midnight Mass</td>\n",
              "      <td>Mike Flanagan</td>\n",
              "      <td>Kate Siegel, Zach Gilford, Hamish Linklater, H...</td>\n",
              "      <td>NaN</td>\n",
              "      <td>September 24, 2021</td>\n",
              "      <td>2021</td>\n",
              "      <td>TV-MA</td>\n",
              "      <td>1 Season</td>\n",
              "      <td>TV Dramas, TV Horror, TV Mysteries</td>\n",
              "      <td>The arrival of a charismatic young priest brin...</td>\n",
              "    </tr>\n",
              "  </tbody>\n",
              "</table>\n",
              "</div>\n",
              "      <button class=\"colab-df-convert\" onclick=\"convertToInteractive('df-9bc33e45-359d-4a12-9ef0-ac594a411fb1')\"\n",
              "              title=\"Convert this dataframe to an interactive table.\"\n",
              "              style=\"display:none;\">\n",
              "        \n",
              "  <svg xmlns=\"http://www.w3.org/2000/svg\" height=\"24px\"viewBox=\"0 0 24 24\"\n",
              "       width=\"24px\">\n",
              "    <path d=\"M0 0h24v24H0V0z\" fill=\"none\"/>\n",
              "    <path d=\"M18.56 5.44l.94 2.06.94-2.06 2.06-.94-2.06-.94-.94-2.06-.94 2.06-2.06.94zm-11 1L8.5 8.5l.94-2.06 2.06-.94-2.06-.94L8.5 2.5l-.94 2.06-2.06.94zm10 10l.94 2.06.94-2.06 2.06-.94-2.06-.94-.94-2.06-.94 2.06-2.06.94z\"/><path d=\"M17.41 7.96l-1.37-1.37c-.4-.4-.92-.59-1.43-.59-.52 0-1.04.2-1.43.59L10.3 9.45l-7.72 7.72c-.78.78-.78 2.05 0 2.83L4 21.41c.39.39.9.59 1.41.59.51 0 1.02-.2 1.41-.59l7.78-7.78 2.81-2.81c.8-.78.8-2.07 0-2.86zM5.41 20L4 18.59l7.72-7.72 1.47 1.35L5.41 20z\"/>\n",
              "  </svg>\n",
              "      </button>\n",
              "      \n",
              "  <style>\n",
              "    .colab-df-container {\n",
              "      display:flex;\n",
              "      flex-wrap:wrap;\n",
              "      gap: 12px;\n",
              "    }\n",
              "\n",
              "    .colab-df-convert {\n",
              "      background-color: #E8F0FE;\n",
              "      border: none;\n",
              "      border-radius: 50%;\n",
              "      cursor: pointer;\n",
              "      display: none;\n",
              "      fill: #1967D2;\n",
              "      height: 32px;\n",
              "      padding: 0 0 0 0;\n",
              "      width: 32px;\n",
              "    }\n",
              "\n",
              "    .colab-df-convert:hover {\n",
              "      background-color: #E2EBFA;\n",
              "      box-shadow: 0px 1px 2px rgba(60, 64, 67, 0.3), 0px 1px 3px 1px rgba(60, 64, 67, 0.15);\n",
              "      fill: #174EA6;\n",
              "    }\n",
              "\n",
              "    [theme=dark] .colab-df-convert {\n",
              "      background-color: #3B4455;\n",
              "      fill: #D2E3FC;\n",
              "    }\n",
              "\n",
              "    [theme=dark] .colab-df-convert:hover {\n",
              "      background-color: #434B5C;\n",
              "      box-shadow: 0px 1px 3px 1px rgba(0, 0, 0, 0.15);\n",
              "      filter: drop-shadow(0px 1px 2px rgba(0, 0, 0, 0.3));\n",
              "      fill: #FFFFFF;\n",
              "    }\n",
              "  </style>\n",
              "\n",
              "      <script>\n",
              "        const buttonEl =\n",
              "          document.querySelector('#df-9bc33e45-359d-4a12-9ef0-ac594a411fb1 button.colab-df-convert');\n",
              "        buttonEl.style.display =\n",
              "          google.colab.kernel.accessAllowed ? 'block' : 'none';\n",
              "\n",
              "        async function convertToInteractive(key) {\n",
              "          const element = document.querySelector('#df-9bc33e45-359d-4a12-9ef0-ac594a411fb1');\n",
              "          const dataTable =\n",
              "            await google.colab.kernel.invokeFunction('convertToInteractive',\n",
              "                                                     [key], {});\n",
              "          if (!dataTable) return;\n",
              "\n",
              "          const docLinkHtml = 'Like what you see? Visit the ' +\n",
              "            '<a target=\"_blank\" href=https://colab.research.google.com/notebooks/data_table.ipynb>data table notebook</a>'\n",
              "            + ' to learn more about interactive tables.';\n",
              "          element.innerHTML = '';\n",
              "          dataTable['output_type'] = 'display_data';\n",
              "          await google.colab.output.renderOutput(dataTable, element);\n",
              "          const docLink = document.createElement('div');\n",
              "          docLink.innerHTML = docLinkHtml;\n",
              "          element.appendChild(docLink);\n",
              "        }\n",
              "      </script>\n",
              "    </div>\n",
              "  </div>\n",
              "  "
            ]
          },
          "metadata": {},
          "execution_count": 73
        }
      ],
      "source": [
        "df_show.head()"
      ]
    },
    {
      "cell_type": "markdown",
      "id": "59d829d5",
      "metadata": {
        "id": "59d829d5"
      },
      "source": [
        "#### Check NaN values "
      ]
    },
    {
      "cell_type": "code",
      "execution_count": 74,
      "id": "52f3a9c7",
      "metadata": {
        "colab": {
          "base_uri": "https://localhost:8080/"
        },
        "id": "52f3a9c7",
        "outputId": "d1b474e4-234c-42ed-d257-254b2ea39094"
      },
      "outputs": [
        {
          "output_type": "execute_result",
          "data": {
            "text/plain": [
              "show_id          0.000000\n",
              "type             0.000000\n",
              "title            0.000000\n",
              "director        91.405082\n",
              "cast            13.079223\n",
              "country         14.611360\n",
              "date_added       0.373692\n",
              "release_year     0.000000\n",
              "rating           0.074738\n",
              "duration         0.000000\n",
              "listed_in        0.000000\n",
              "description      0.000000\n",
              "dtype: float64"
            ]
          },
          "metadata": {},
          "execution_count": 74
        }
      ],
      "source": [
        "df_show.isna().sum()/df_show.shape[0]*100"
      ]
    },
    {
      "cell_type": "markdown",
      "id": "3100705e",
      "metadata": {
        "id": "3100705e"
      },
      "source": [
        "We can see there are more than 90% TV Shows for which directors name is missing. We can remove this feature from this dataset as this will not help us much in getting the insights for TV shows.\n",
        "\n",
        "For others we can remove the rows for which values are missing."
      ]
    },
    {
      "cell_type": "code",
      "execution_count": 75,
      "id": "9ac0ace7",
      "metadata": {
        "id": "9ac0ace7"
      },
      "outputs": [],
      "source": [
        "df_show.drop(columns=[\"director\"], axis=1, inplace=True)"
      ]
    },
    {
      "cell_type": "code",
      "execution_count": 76,
      "id": "587af255",
      "metadata": {
        "id": "587af255"
      },
      "outputs": [],
      "source": [
        "df_show.dropna(inplace=True)"
      ]
    },
    {
      "cell_type": "code",
      "execution_count": 77,
      "id": "286077a0",
      "metadata": {
        "colab": {
          "base_uri": "https://localhost:8080/",
          "height": 458
        },
        "id": "286077a0",
        "outputId": "15671288-b756-4806-9269-1987d1d5d324"
      },
      "outputs": [
        {
          "output_type": "execute_result",
          "data": {
            "text/plain": [
              "   show_id     type                          title  \\\n",
              "1       s2  TV Show                  Blood & Water   \n",
              "4       s5  TV Show                   Kota Factory   \n",
              "8       s9  TV Show  The Great British Baking Show   \n",
              "15     s16  TV Show              Dear White People   \n",
              "17     s18  TV Show                Falsa identidad   \n",
              "\n",
              "                                                 cast         country  \\\n",
              "1   Ama Qamata, Khosi Ngema, Gail Mabalane, Thaban...    South Africa   \n",
              "4   Mayur More, Jitendra Kumar, Ranjan Raj, Alam K...           India   \n",
              "8   Mel Giedroyc, Sue Perkins, Mary Berry, Paul Ho...  United Kingdom   \n",
              "15  Logan Browning, Brandon P. Bell, DeRon Horton,...   United States   \n",
              "17  Luis Ernesto Franco, Camila Sodi, Sergio Goyri...          Mexico   \n",
              "\n",
              "            date_added  release_year rating   duration  \\\n",
              "1   September 24, 2021          2021  TV-MA  2 Seasons   \n",
              "4   September 24, 2021          2021  TV-MA  2 Seasons   \n",
              "8   September 24, 2021          2021  TV-14  9 Seasons   \n",
              "15  September 22, 2021          2021  TV-MA  4 Seasons   \n",
              "17  September 22, 2021          2020  TV-MA  2 Seasons   \n",
              "\n",
              "                                            listed_in  \\\n",
              "1     International TV Shows, TV Dramas, TV Mysteries   \n",
              "4   International TV Shows, Romantic TV Shows, TV ...   \n",
              "8                        British TV Shows, Reality TV   \n",
              "15                             TV Comedies, TV Dramas   \n",
              "17  Crime TV Shows, Spanish-Language TV Shows, TV ...   \n",
              "\n",
              "                                          description  \n",
              "1   After crossing paths at a party, a Cape Town t...  \n",
              "4   In a city of coaching centers known to train I...  \n",
              "8   A talented batch of amateur bakers face off in...  \n",
              "15  Students of color navigate the daily slights a...  \n",
              "17  Strangers Diego and Isabel flee their home in ...  "
            ],
            "text/html": [
              "\n",
              "  <div id=\"df-952d2ea7-02f6-4498-ac8c-15ed4f5957b1\">\n",
              "    <div class=\"colab-df-container\">\n",
              "      <div>\n",
              "<style scoped>\n",
              "    .dataframe tbody tr th:only-of-type {\n",
              "        vertical-align: middle;\n",
              "    }\n",
              "\n",
              "    .dataframe tbody tr th {\n",
              "        vertical-align: top;\n",
              "    }\n",
              "\n",
              "    .dataframe thead th {\n",
              "        text-align: right;\n",
              "    }\n",
              "</style>\n",
              "<table border=\"1\" class=\"dataframe\">\n",
              "  <thead>\n",
              "    <tr style=\"text-align: right;\">\n",
              "      <th></th>\n",
              "      <th>show_id</th>\n",
              "      <th>type</th>\n",
              "      <th>title</th>\n",
              "      <th>cast</th>\n",
              "      <th>country</th>\n",
              "      <th>date_added</th>\n",
              "      <th>release_year</th>\n",
              "      <th>rating</th>\n",
              "      <th>duration</th>\n",
              "      <th>listed_in</th>\n",
              "      <th>description</th>\n",
              "    </tr>\n",
              "  </thead>\n",
              "  <tbody>\n",
              "    <tr>\n",
              "      <th>1</th>\n",
              "      <td>s2</td>\n",
              "      <td>TV Show</td>\n",
              "      <td>Blood &amp; Water</td>\n",
              "      <td>Ama Qamata, Khosi Ngema, Gail Mabalane, Thaban...</td>\n",
              "      <td>South Africa</td>\n",
              "      <td>September 24, 2021</td>\n",
              "      <td>2021</td>\n",
              "      <td>TV-MA</td>\n",
              "      <td>2 Seasons</td>\n",
              "      <td>International TV Shows, TV Dramas, TV Mysteries</td>\n",
              "      <td>After crossing paths at a party, a Cape Town t...</td>\n",
              "    </tr>\n",
              "    <tr>\n",
              "      <th>4</th>\n",
              "      <td>s5</td>\n",
              "      <td>TV Show</td>\n",
              "      <td>Kota Factory</td>\n",
              "      <td>Mayur More, Jitendra Kumar, Ranjan Raj, Alam K...</td>\n",
              "      <td>India</td>\n",
              "      <td>September 24, 2021</td>\n",
              "      <td>2021</td>\n",
              "      <td>TV-MA</td>\n",
              "      <td>2 Seasons</td>\n",
              "      <td>International TV Shows, Romantic TV Shows, TV ...</td>\n",
              "      <td>In a city of coaching centers known to train I...</td>\n",
              "    </tr>\n",
              "    <tr>\n",
              "      <th>8</th>\n",
              "      <td>s9</td>\n",
              "      <td>TV Show</td>\n",
              "      <td>The Great British Baking Show</td>\n",
              "      <td>Mel Giedroyc, Sue Perkins, Mary Berry, Paul Ho...</td>\n",
              "      <td>United Kingdom</td>\n",
              "      <td>September 24, 2021</td>\n",
              "      <td>2021</td>\n",
              "      <td>TV-14</td>\n",
              "      <td>9 Seasons</td>\n",
              "      <td>British TV Shows, Reality TV</td>\n",
              "      <td>A talented batch of amateur bakers face off in...</td>\n",
              "    </tr>\n",
              "    <tr>\n",
              "      <th>15</th>\n",
              "      <td>s16</td>\n",
              "      <td>TV Show</td>\n",
              "      <td>Dear White People</td>\n",
              "      <td>Logan Browning, Brandon P. Bell, DeRon Horton,...</td>\n",
              "      <td>United States</td>\n",
              "      <td>September 22, 2021</td>\n",
              "      <td>2021</td>\n",
              "      <td>TV-MA</td>\n",
              "      <td>4 Seasons</td>\n",
              "      <td>TV Comedies, TV Dramas</td>\n",
              "      <td>Students of color navigate the daily slights a...</td>\n",
              "    </tr>\n",
              "    <tr>\n",
              "      <th>17</th>\n",
              "      <td>s18</td>\n",
              "      <td>TV Show</td>\n",
              "      <td>Falsa identidad</td>\n",
              "      <td>Luis Ernesto Franco, Camila Sodi, Sergio Goyri...</td>\n",
              "      <td>Mexico</td>\n",
              "      <td>September 22, 2021</td>\n",
              "      <td>2020</td>\n",
              "      <td>TV-MA</td>\n",
              "      <td>2 Seasons</td>\n",
              "      <td>Crime TV Shows, Spanish-Language TV Shows, TV ...</td>\n",
              "      <td>Strangers Diego and Isabel flee their home in ...</td>\n",
              "    </tr>\n",
              "  </tbody>\n",
              "</table>\n",
              "</div>\n",
              "      <button class=\"colab-df-convert\" onclick=\"convertToInteractive('df-952d2ea7-02f6-4498-ac8c-15ed4f5957b1')\"\n",
              "              title=\"Convert this dataframe to an interactive table.\"\n",
              "              style=\"display:none;\">\n",
              "        \n",
              "  <svg xmlns=\"http://www.w3.org/2000/svg\" height=\"24px\"viewBox=\"0 0 24 24\"\n",
              "       width=\"24px\">\n",
              "    <path d=\"M0 0h24v24H0V0z\" fill=\"none\"/>\n",
              "    <path d=\"M18.56 5.44l.94 2.06.94-2.06 2.06-.94-2.06-.94-.94-2.06-.94 2.06-2.06.94zm-11 1L8.5 8.5l.94-2.06 2.06-.94-2.06-.94L8.5 2.5l-.94 2.06-2.06.94zm10 10l.94 2.06.94-2.06 2.06-.94-2.06-.94-.94-2.06-.94 2.06-2.06.94z\"/><path d=\"M17.41 7.96l-1.37-1.37c-.4-.4-.92-.59-1.43-.59-.52 0-1.04.2-1.43.59L10.3 9.45l-7.72 7.72c-.78.78-.78 2.05 0 2.83L4 21.41c.39.39.9.59 1.41.59.51 0 1.02-.2 1.41-.59l7.78-7.78 2.81-2.81c.8-.78.8-2.07 0-2.86zM5.41 20L4 18.59l7.72-7.72 1.47 1.35L5.41 20z\"/>\n",
              "  </svg>\n",
              "      </button>\n",
              "      \n",
              "  <style>\n",
              "    .colab-df-container {\n",
              "      display:flex;\n",
              "      flex-wrap:wrap;\n",
              "      gap: 12px;\n",
              "    }\n",
              "\n",
              "    .colab-df-convert {\n",
              "      background-color: #E8F0FE;\n",
              "      border: none;\n",
              "      border-radius: 50%;\n",
              "      cursor: pointer;\n",
              "      display: none;\n",
              "      fill: #1967D2;\n",
              "      height: 32px;\n",
              "      padding: 0 0 0 0;\n",
              "      width: 32px;\n",
              "    }\n",
              "\n",
              "    .colab-df-convert:hover {\n",
              "      background-color: #E2EBFA;\n",
              "      box-shadow: 0px 1px 2px rgba(60, 64, 67, 0.3), 0px 1px 3px 1px rgba(60, 64, 67, 0.15);\n",
              "      fill: #174EA6;\n",
              "    }\n",
              "\n",
              "    [theme=dark] .colab-df-convert {\n",
              "      background-color: #3B4455;\n",
              "      fill: #D2E3FC;\n",
              "    }\n",
              "\n",
              "    [theme=dark] .colab-df-convert:hover {\n",
              "      background-color: #434B5C;\n",
              "      box-shadow: 0px 1px 3px 1px rgba(0, 0, 0, 0.15);\n",
              "      filter: drop-shadow(0px 1px 2px rgba(0, 0, 0, 0.3));\n",
              "      fill: #FFFFFF;\n",
              "    }\n",
              "  </style>\n",
              "\n",
              "      <script>\n",
              "        const buttonEl =\n",
              "          document.querySelector('#df-952d2ea7-02f6-4498-ac8c-15ed4f5957b1 button.colab-df-convert');\n",
              "        buttonEl.style.display =\n",
              "          google.colab.kernel.accessAllowed ? 'block' : 'none';\n",
              "\n",
              "        async function convertToInteractive(key) {\n",
              "          const element = document.querySelector('#df-952d2ea7-02f6-4498-ac8c-15ed4f5957b1');\n",
              "          const dataTable =\n",
              "            await google.colab.kernel.invokeFunction('convertToInteractive',\n",
              "                                                     [key], {});\n",
              "          if (!dataTable) return;\n",
              "\n",
              "          const docLinkHtml = 'Like what you see? Visit the ' +\n",
              "            '<a target=\"_blank\" href=https://colab.research.google.com/notebooks/data_table.ipynb>data table notebook</a>'\n",
              "            + ' to learn more about interactive tables.';\n",
              "          element.innerHTML = '';\n",
              "          dataTable['output_type'] = 'display_data';\n",
              "          await google.colab.output.renderOutput(dataTable, element);\n",
              "          const docLink = document.createElement('div');\n",
              "          docLink.innerHTML = docLinkHtml;\n",
              "          element.appendChild(docLink);\n",
              "        }\n",
              "      </script>\n",
              "    </div>\n",
              "  </div>\n",
              "  "
            ]
          },
          "metadata": {},
          "execution_count": 77
        }
      ],
      "source": [
        "df_show.head()\n",
        "# Here duration is suggesting us the Seasons details"
      ]
    },
    {
      "cell_type": "markdown",
      "id": "57774a02",
      "metadata": {
        "id": "57774a02"
      },
      "source": [
        "#### Duration/Season Analysis"
      ]
    },
    {
      "cell_type": "code",
      "execution_count": 78,
      "id": "adaf2dc6",
      "metadata": {
        "id": "adaf2dc6"
      },
      "outputs": [],
      "source": [
        "df_show[\"duration\"] = df_show[\"duration\"].apply(lambda x: int(x.split()[0]))"
      ]
    },
    {
      "cell_type": "code",
      "execution_count": 79,
      "id": "5ab6dafa",
      "metadata": {
        "colab": {
          "base_uri": "https://localhost:8080/",
          "height": 279
        },
        "id": "5ab6dafa",
        "outputId": "9bf47b3e-95e3-42f9-b8fc-f7d893b69de6"
      },
      "outputs": [
        {
          "output_type": "display_data",
          "data": {
            "text/plain": [
              "<Figure size 432x288 with 1 Axes>"
            ],
            "image/png": "[encoded data removed]"
          },
          "metadata": {
            "needs_background": "light"
          }
        }
      ],
      "source": [
        "sns.histplot(df_show[\"duration\"])\n",
        "plt.show()"
      ]
    },
    {
      "cell_type": "code",
      "execution_count": 80,
      "id": "ff702727",
      "metadata": {
        "colab": {
          "base_uri": "https://localhost:8080/"
        },
        "id": "ff702727",
        "outputId": "9ac80dac-1e6b-4f82-c2e6-c120dfc44aa2"
      },
      "outputs": [
        {
          "output_type": "execute_result",
          "data": {
            "text/plain": [
              "count    2013.000000\n",
              "mean        1.905614\n",
              "std         1.696984\n",
              "min         1.000000\n",
              "25%         1.000000\n",
              "50%         1.000000\n",
              "75%         2.000000\n",
              "max        17.000000\n",
              "Name: duration, dtype: float64"
            ]
          },
          "metadata": {},
          "execution_count": 80
        }
      ],
      "source": [
        "df_show[\"duration\"].describe()"
      ]
    },
    {
      "cell_type": "code",
      "execution_count": 81,
      "id": "9c7a87c0",
      "metadata": {
        "colab": {
          "base_uri": "https://localhost:8080/",
          "height": 159
        },
        "id": "9c7a87c0",
        "outputId": "04c14c50-ccdb-4d73-b015-9788e5569b59"
      },
      "outputs": [
        {
          "output_type": "execute_result",
          "data": {
            "text/plain": [
              "    show_id     type           title  \\\n",
              "548    s549  TV Show  Grey's Anatomy   \n",
              "\n",
              "                                                  cast        country  \\\n",
              "548  Ellen Pompeo, Sandra Oh, Katherine Heigl, Just...  United States   \n",
              "\n",
              "       date_added  release_year rating  duration  \\\n",
              "548  July 3, 2021          2020  TV-14        17   \n",
              "\n",
              "                        listed_in  \\\n",
              "548  Romantic TV Shows, TV Dramas   \n",
              "\n",
              "                                           description  \n",
              "548  Intern (and eventual resident) Meredith Grey f...  "
            ],
            "text/html": [
              "\n",
              "  <div id=\"df-1c2b00fa-4e37-4d8a-a42b-e484403fdef5\">\n",
              "    <div class=\"colab-df-container\">\n",
              "      <div>\n",
              "<style scoped>\n",
              "    .dataframe tbody tr th:only-of-type {\n",
              "        vertical-align: middle;\n",
              "    }\n",
              "\n",
              "    .dataframe tbody tr th {\n",
              "        vertical-align: top;\n",
              "    }\n",
              "\n",
              "    .dataframe thead th {\n",
              "        text-align: right;\n",
              "    }\n",
              "</style>\n",
              "<table border=\"1\" class=\"dataframe\">\n",
              "  <thead>\n",
              "    <tr style=\"text-align: right;\">\n",
              "      <th></th>\n",
              "      <th>show_id</th>\n",
              "      <th>type</th>\n",
              "      <th>title</th>\n",
              "      <th>cast</th>\n",
              "      <th>country</th>\n",
              "      <th>date_added</th>\n",
              "      <th>release_year</th>\n",
              "      <th>rating</th>\n",
              "      <th>duration</th>\n",
              "      <th>listed_in</th>\n",
              "      <th>description</th>\n",
              "    </tr>\n",
              "  </thead>\n",
              "  <tbody>\n",
              "    <tr>\n",
              "      <th>548</th>\n",
              "      <td>s549</td>\n",
              "      <td>TV Show</td>\n",
              "      <td>Grey's Anatomy</td>\n",
              "      <td>Ellen Pompeo, Sandra Oh, Katherine Heigl, Just...</td>\n",
              "      <td>United States</td>\n",
              "      <td>July 3, 2021</td>\n",
              "      <td>2020</td>\n",
              "      <td>TV-14</td>\n",
              "      <td>17</td>\n",
              "      <td>Romantic TV Shows, TV Dramas</td>\n",
              "      <td>Intern (and eventual resident) Meredith Grey f...</td>\n",
              "    </tr>\n",
              "  </tbody>\n",
              "</table>\n",
              "</div>\n",
              "      <button class=\"colab-df-convert\" onclick=\"convertToInteractive('df-1c2b00fa-4e37-4d8a-a42b-e484403fdef5')\"\n",
              "              title=\"Convert this dataframe to an interactive table.\"\n",
              "              style=\"display:none;\">\n",
              "        \n",
              "  <svg xmlns=\"http://www.w3.org/2000/svg\" height=\"24px\"viewBox=\"0 0 24 24\"\n",
              "       width=\"24px\">\n",
              "    <path d=\"M0 0h24v24H0V0z\" fill=\"none\"/>\n",
              "    <path d=\"M18.56 5.44l.94 2.06.94-2.06 2.06-.94-2.06-.94-.94-2.06-.94 2.06-2.06.94zm-11 1L8.5 8.5l.94-2.06 2.06-.94-2.06-.94L8.5 2.5l-.94 2.06-2.06.94zm10 10l.94 2.06.94-2.06 2.06-.94-2.06-.94-.94-2.06-.94 2.06-2.06.94z\"/><path d=\"M17.41 7.96l-1.37-1.37c-.4-.4-.92-.59-1.43-.59-.52 0-1.04.2-1.43.59L10.3 9.45l-7.72 7.72c-.78.78-.78 2.05 0 2.83L4 21.41c.39.39.9.59 1.41.59.51 0 1.02-.2 1.41-.59l7.78-7.78 2.81-2.81c.8-.78.8-2.07 0-2.86zM5.41 20L4 18.59l7.72-7.72 1.47 1.35L5.41 20z\"/>\n",
              "  </svg>\n",
              "      </button>\n",
              "      \n",
              "  <style>\n",
              "    .colab-df-container {\n",
              "      display:flex;\n",
              "      flex-wrap:wrap;\n",
              "      gap: 12px;\n",
              "    }\n",
              "\n",
              "    .colab-df-convert {\n",
              "      background-color: #E8F0FE;\n",
              "      border: none;\n",
              "      border-radius: 50%;\n",
              "      cursor: pointer;\n",
              "      display: none;\n",
              "      fill: #1967D2;\n",
              "      height: 32px;\n",
              "      padding: 0 0 0 0;\n",
              "      width: 32px;\n",
              "    }\n",
              "\n",
              "    .colab-df-convert:hover {\n",
              "      background-color: #E2EBFA;\n",
              "      box-shadow: 0px 1px 2px rgba(60, 64, 67, 0.3), 0px 1px 3px 1px rgba(60, 64, 67, 0.15);\n",
              "      fill: #174EA6;\n",
              "    }\n",
              "\n",
              "    [theme=dark] .colab-df-convert {\n",
              "      background-color: #3B4455;\n",
              "      fill: #D2E3FC;\n",
              "    }\n",
              "\n",
              "    [theme=dark] .colab-df-convert:hover {\n",
              "      background-color: #434B5C;\n",
              "      box-shadow: 0px 1px 3px 1px rgba(0, 0, 0, 0.15);\n",
              "      filter: drop-shadow(0px 1px 2px rgba(0, 0, 0, 0.3));\n",
              "      fill: #FFFFFF;\n",
              "    }\n",
              "  </style>\n",
              "\n",
              "      <script>\n",
              "        const buttonEl =\n",
              "          document.querySelector('#df-1c2b00fa-4e37-4d8a-a42b-e484403fdef5 button.colab-df-convert');\n",
              "        buttonEl.style.display =\n",
              "          google.colab.kernel.accessAllowed ? 'block' : 'none';\n",
              "\n",
              "        async function convertToInteractive(key) {\n",
              "          const element = document.querySelector('#df-1c2b00fa-4e37-4d8a-a42b-e484403fdef5');\n",
              "          const dataTable =\n",
              "            await google.colab.kernel.invokeFunction('convertToInteractive',\n",
              "                                                     [key], {});\n",
              "          if (!dataTable) return;\n",
              "\n",
              "          const docLinkHtml = 'Like what you see? Visit the ' +\n",
              "            '<a target=\"_blank\" href=https://colab.research.google.com/notebooks/data_table.ipynb>data table notebook</a>'\n",
              "            + ' to learn more about interactive tables.';\n",
              "          element.innerHTML = '';\n",
              "          dataTable['output_type'] = 'display_data';\n",
              "          await google.colab.output.renderOutput(dataTable, element);\n",
              "          const docLink = document.createElement('div');\n",
              "          docLink.innerHTML = docLinkHtml;\n",
              "          element.appendChild(docLink);\n",
              "        }\n",
              "      </script>\n",
              "    </div>\n",
              "  </div>\n",
              "  "
            ]
          },
          "metadata": {},
          "execution_count": 81
        }
      ],
      "source": [
        "df_show.loc[df_show[\"duration\"] == df_show[\"duration\"].max()]"
      ]
    },
    {
      "cell_type": "markdown",
      "id": "c10c12b9",
      "metadata": {
        "id": "c10c12b9"
      },
      "source": [
        "We can observe most of the TV Shows consist of only 1 season. 75% of the shows consist of upto 2 seasons. \n",
        "\n",
        "Longest TV show on Netflix is Grey's Anatomy with 17 seasons "
      ]
    },
    {
      "cell_type": "markdown",
      "id": "a50732ee",
      "metadata": {
        "id": "a50732ee"
      },
      "source": [
        "#### Trends of TV Shows "
      ]
    },
    {
      "cell_type": "code",
      "execution_count": 82,
      "id": "a65facc4",
      "metadata": {
        "colab": {
          "base_uri": "https://localhost:8080/",
          "height": 280
        },
        "id": "a65facc4",
        "outputId": "ca4fa0cb-9a79-49d3-d281-e7f841e0e088"
      },
      "outputs": [
        {
          "output_type": "display_data",
          "data": {
            "text/plain": [
              "<Figure size 432x288 with 1 Axes>"
            ],
            "image/png": "[encoded data removed]"
          },
          "metadata": {
            "needs_background": "light"
          }
        }
      ],
      "source": [
        "sns.histplot(df_show[\"release_year\"])\n",
        "plt.xlim(1990,2021)\n",
        "plt.show()"
      ]
    },
    {
      "cell_type": "markdown",
      "id": "c853d52c",
      "metadata": {
        "id": "c853d52c"
      },
      "source": [
        "We can see the number of TV shows released every has increased rapidly.  "
      ]
    },
    {
      "cell_type": "code",
      "execution_count": 83,
      "id": "6f35492f",
      "metadata": {
        "colab": {
          "base_uri": "https://localhost:8080/"
        },
        "id": "6f35492f",
        "outputId": "3058ebd9-65bc-432d-e53a-1c927c3396de"
      },
      "outputs": [
        {
          "output_type": "execute_result",
          "data": {
            "text/plain": [
              "array(['TV-MA', 'TV-14', 'TV-Y7', 'TV-PG', 'TV-Y', 'TV-G', 'NR', 'R',\n",
              "       'TV-Y7-FV'], dtype=object)"
            ]
          },
          "metadata": {},
          "execution_count": 83
        }
      ],
      "source": [
        "df_show[\"rating\"].unique()"
      ]
    },
    {
      "cell_type": "code",
      "execution_count": 84,
      "id": "26bbdd8b",
      "metadata": {
        "id": "26bbdd8b"
      },
      "outputs": [],
      "source": [
        "show_ratings = {\n",
        "    \"kids\": ['TV-Y','TV-Y7','G','TV-G','PG','TV-PG','TV-Y7-FV'],\n",
        "    \"teens\": ['PG-13','TV-14'],\n",
        "    \"adults\": ['R','TV-MA','NC-17','NR']\n",
        "}"
      ]
    },
    {
      "cell_type": "code",
      "execution_count": 85,
      "id": "8ee726a2",
      "metadata": {
        "id": "8ee726a2"
      },
      "outputs": [],
      "source": [
        "def add_rating_groups(x):\n",
        "    if x in show_ratings[\"kids\"]:\n",
        "        return \"kids\"\n",
        "    elif x in show_ratings[\"teens\"]:\n",
        "        return \"teens\"\n",
        "    elif x in show_ratings[\"adults\"]:\n",
        "        return \"adults\""
      ]
    },
    {
      "cell_type": "code",
      "execution_count": 86,
      "id": "d38b853f",
      "metadata": {
        "id": "d38b853f"
      },
      "outputs": [],
      "source": [
        "df_show[\"rating_groups\"] = df_show[\"rating\"].apply(add_rating_groups)"
      ]
    },
    {
      "cell_type": "code",
      "execution_count": 87,
      "id": "4520ce00",
      "metadata": {
        "colab": {
          "base_uri": "https://localhost:8080/",
          "height": 335
        },
        "id": "4520ce00",
        "outputId": "f4c598e1-a18c-4eae-a434-2cc35cdb3cc1"
      },
      "outputs": [
        {
          "output_type": "display_data",
          "data": {
            "text/plain": [
              "<Figure size 576x360 with 1 Axes>"
            ],
            "image/png": "[encoded data removed]"
          },
          "metadata": {
            "needs_background": "light"
          }
        }
      ],
      "source": [
        "plt.figure(figsize=(8,5))\n",
        "sns.histplot(data=df_show, x=\"release_year\", hue=\"rating_groups\")\n",
        "plt.xlim(2005, 2021)\n",
        "plt.show()"
      ]
    },
    {
      "cell_type": "markdown",
      "id": "b891c15f",
      "metadata": {
        "id": "b891c15f"
      },
      "source": [
        "TV shows rated for adults are becoming more popular and directors are preferring to target **adults** as there audiance than **kids or teens**"
      ]
    },
    {
      "cell_type": "markdown",
      "id": "8fcd489b",
      "metadata": {
        "id": "8fcd489b"
      },
      "source": [
        "#### Top Countries in TV Shows "
      ]
    },
    {
      "cell_type": "code",
      "execution_count": 88,
      "id": "e87aa79d",
      "metadata": {
        "id": "e87aa79d"
      },
      "outputs": [],
      "source": [
        "df_show_country = df_show.assign(country=df_show['country'].str.split(\", \")).explode('country')"
      ]
    },
    {
      "cell_type": "code",
      "execution_count": 89,
      "id": "98f81cb8",
      "metadata": {
        "id": "98f81cb8"
      },
      "outputs": [],
      "source": [
        "top_show_country = list(df_show_country[\"country\"].value_counts().head().index)"
      ]
    },
    {
      "cell_type": "code",
      "execution_count": 90,
      "id": "4834de78",
      "metadata": {
        "colab": {
          "base_uri": "https://localhost:8080/"
        },
        "id": "4834de78",
        "outputId": "1f553b00-3c5e-4310-bca4-629f124a30f8"
      },
      "outputs": [
        {
          "output_type": "execute_result",
          "data": {
            "text/plain": [
              "['United States', 'United Kingdom', 'Japan', 'South Korea', 'Canada']"
            ]
          },
          "metadata": {},
          "execution_count": 90
        }
      ],
      "source": [
        "top_show_country"
      ]
    },
    {
      "cell_type": "code",
      "execution_count": 91,
      "id": "322bae0c",
      "metadata": {
        "id": "322bae0c"
      },
      "outputs": [],
      "source": [
        "df_show_top_country = df_show_country.loc[df_show_country[\"country\"].isin(top_show_country)]"
      ]
    },
    {
      "cell_type": "code",
      "execution_count": 92,
      "id": "8daf074e",
      "metadata": {
        "colab": {
          "base_uri": "https://localhost:8080/",
          "height": 334
        },
        "id": "8daf074e",
        "outputId": "0db2e50c-7e73-433d-b3cd-ecaea31c514f"
      },
      "outputs": [
        {
          "output_type": "display_data",
          "data": {
            "text/plain": [
              "<Figure size 576x360 with 1 Axes>"
            ],
            "image/png": "[encoded data removed]"
          },
          "metadata": {
            "needs_background": "light"
          }
        }
      ],
      "source": [
        "plt.figure(figsize=(8,5))\n",
        "sns.barplot(y=df_show_top_country[\"country\"].value_counts().values, x=top_show_country)\n",
        "plt.xlabel(\"Countries\")\n",
        "plt.ylabel(\"Number of TV Shows\")\n",
        "plt.show()"
      ]
    },
    {
      "cell_type": "markdown",
      "id": "b832870b",
      "metadata": {
        "id": "b832870b"
      },
      "source": [
        "Maximum number of TV shows are produced in United States followed by United Kingdom sames observation we saw for Movies as well"
      ]
    },
    {
      "cell_type": "code",
      "execution_count": 93,
      "id": "25991661",
      "metadata": {
        "id": "25991661"
      },
      "outputs": [],
      "source": [
        "grp_show_country_rating = df_show_top_country.groupby(\"country\")[\"rating_groups\"].value_counts().sort_values(ascending=False).to_frame(\"count\").reset_index()"
      ]
    },
    {
      "cell_type": "code",
      "execution_count": 94,
      "id": "2a9e0dee",
      "metadata": {
        "colab": {
          "base_uri": "https://localhost:8080/",
          "height": 334
        },
        "id": "2a9e0dee",
        "outputId": "a1159c84-bdbb-4526-8a09-41b945052b87"
      },
      "outputs": [
        {
          "output_type": "display_data",
          "data": {
            "text/plain": [
              "<Figure size 576x360 with 1 Axes>"
            ],
            "image/png": "[encoded data removed]"
          },
          "metadata": {
            "needs_background": "light"
          }
        }
      ],
      "source": [
        "plt.figure(figsize=(8,5))\n",
        "sns.barplot(data=grp_show_country_rating, x=\"country\", y=\"count\", hue=\"rating_groups\")\n",
        "plt.show()"
      ]
    },
    {
      "cell_type": "markdown",
      "id": "8c00c871",
      "metadata": {
        "id": "8c00c871"
      },
      "source": [
        "We can see United States and United Kingdom goes with the overall trend of adult and kids rated TV shows, but South Korea and Japan shows some different trend. They produce more shows for teens than adults"
      ]
    },
    {
      "cell_type": "code",
      "execution_count": 95,
      "id": "fc1f09ea",
      "metadata": {
        "id": "fc1f09ea"
      },
      "outputs": [],
      "source": [
        "df_show_jpn_sko = df_show_country.loc[df_show_country[\"country\"].isin([\"Japan\",\"South Korea\"])]"
      ]
    },
    {
      "cell_type": "code",
      "execution_count": 96,
      "id": "fb6057da",
      "metadata": {
        "id": "fb6057da"
      },
      "outputs": [],
      "source": [
        "df_show_jpn_sko = df_show_jpn_sko.assign(listed_in=df_show_jpn_sko['listed_in'].str.split(\", \")).explode('listed_in')"
      ]
    },
    {
      "cell_type": "code",
      "execution_count": 97,
      "id": "c8dad0ca",
      "metadata": {
        "id": "c8dad0ca"
      },
      "outputs": [],
      "source": [
        "grp_show_jpn_sko = df_show_jpn_sko.groupby(\"rating_groups\")[\"listed_in\"].value_counts(ascending=False).groupby(level=0).head().to_frame(\"count\").reset_index()"
      ]
    },
    {
      "cell_type": "code",
      "execution_count": 98,
      "id": "15359b10",
      "metadata": {
        "colab": {
          "base_uri": "https://localhost:8080/",
          "height": 388
        },
        "id": "15359b10",
        "outputId": "d0d4bab4-c18d-4335-c1cf-8e4204668252"
      },
      "outputs": [
        {
          "output_type": "display_data",
          "data": {
            "text/plain": [
              "<Figure size 720x432 with 1 Axes>"
            ],
            "image/png": "[encoded data removed]"
          },
          "metadata": {
            "needs_background": "light"
          }
        }
      ],
      "source": [
        "plt.figure(figsize=(10,6))\n",
        "sns.barplot(data=grp_show_jpn_sko, x = \"listed_in\", y=\"count\", hue=\"rating_groups\")\n",
        "plt.legend(loc=\"upper right\")\n",
        "plt.xlabel(\"Genre\")\n",
        "plt.show()"
      ]
    },
    {
      "cell_type": "markdown",
      "id": "bdd4e0a4",
      "metadata": {
        "id": "bdd4e0a4"
      },
      "source": [
        "Top watched TV show genre in Japan and South Korea are International TV Shows and Anime Series. 4 of the top 6 genre in Japan and South Korea are rated for teens."
      ]
    },
    {
      "cell_type": "code",
      "execution_count": 99,
      "id": "38536fe1",
      "metadata": {
        "id": "38536fe1"
      },
      "outputs": [],
      "source": [
        "df_show_us_uk = df_show_country.loc[df_show_country[\"country\"].isin([\"United States\",\"United Kingdom\"])]"
      ]
    },
    {
      "cell_type": "code",
      "execution_count": 100,
      "id": "ea3f9710",
      "metadata": {
        "id": "ea3f9710"
      },
      "outputs": [],
      "source": [
        "df_show_us_uk = df_show_us_uk.assign(listed_in=df_show_us_uk['listed_in'].str.split(\", \")).explode('listed_in')\n",
        "grp_show_us_uk = df_show_us_uk.groupby(\"rating_groups\")[\"listed_in\"].value_counts(ascending=False).groupby(level=0).head().to_frame(\"count\").reset_index()"
      ]
    },
    {
      "cell_type": "code",
      "execution_count": 101,
      "id": "726c71ce",
      "metadata": {
        "colab": {
          "base_uri": "https://localhost:8080/",
          "height": 388
        },
        "id": "726c71ce",
        "outputId": "666fc10f-004d-4a6e-b026-6774e101d12b"
      },
      "outputs": [
        {
          "output_type": "display_data",
          "data": {
            "text/plain": [
              "<Figure size 1080x432 with 1 Axes>"
            ],
            "image/png": "[encoded data removed]"
          },
          "metadata": {
            "needs_background": "light"
          }
        }
      ],
      "source": [
        "plt.figure(figsize=(15,6))\n",
        "sns.barplot(data=grp_show_us_uk, x = \"listed_in\", y=\"count\", hue=\"rating_groups\")\n",
        "plt.legend(loc=\"upper right\")\n",
        "plt.xlabel(\"Genre\")\n",
        "plt.show()"
      ]
    },
    {
      "cell_type": "markdown",
      "id": "3018ad17",
      "metadata": {
        "id": "3018ad17"
      },
      "source": [
        "Most of the genres United States and United Kingdom are targeted for adults. Their top genres are TV Dramas, TV Comedies and Crime TV Shows"
      ]
    },
    {
      "cell_type": "markdown",
      "id": "126c7629",
      "metadata": {
        "id": "126c7629"
      },
      "source": [
        "#### Best time to launch TV Show "
      ]
    },
    {
      "cell_type": "code",
      "execution_count": 102,
      "id": "ccf0843b",
      "metadata": {
        "id": "ccf0843b"
      },
      "outputs": [],
      "source": [
        "df_show[\"date_added\"] = pd.to_datetime(df_show[\"date_added\"])"
      ]
    },
    {
      "cell_type": "code",
      "execution_count": 103,
      "id": "33376ab8",
      "metadata": {
        "id": "33376ab8"
      },
      "outputs": [],
      "source": [
        "df_show[\"month\"] = df_show[\"date_added\"].dt.strftime('%b')"
      ]
    },
    {
      "cell_type": "code",
      "execution_count": 104,
      "id": "bccf7b93",
      "metadata": {
        "id": "bccf7b93"
      },
      "outputs": [],
      "source": [
        "show_month = df_show[\"month\"].value_counts().reset_index().rename(columns = {'index' : 'month', 'month' : 'count'})"
      ]
    },
    {
      "cell_type": "code",
      "execution_count": 105,
      "id": "f1d2a7e8",
      "metadata": {
        "colab": {
          "base_uri": "https://localhost:8080/",
          "height": 296
        },
        "id": "f1d2a7e8",
        "outputId": "33c818a4-b371-4746-d23b-4083ccd83367"
      },
      "outputs": [
        {
          "output_type": "execute_result",
          "data": {
            "text/plain": [
              "<matplotlib.axes._subplots.AxesSubplot at 0x7fb6e6f24850>"
            ]
          },
          "metadata": {},
          "execution_count": 105
        },
        {
          "output_type": "display_data",
          "data": {
            "text/plain": [
              "<Figure size 432x288 with 1 Axes>"
            ],
            "image/png": "[encoded data removed]"
          },
          "metadata": {
            "needs_background": "light"
          }
        }
      ],
      "source": [
        "sns.barplot(data=show_month, x=\"month\", y=\"count\")"
      ]
    },
    {
      "cell_type": "markdown",
      "id": "00ae6822",
      "metadata": {
        "id": "00ae6822"
      },
      "source": [
        "Seasonality/Holiday Sprits :  Most directors like to launch their TV shows in the month of December, because of the holiday season there is a possibility of high viewership in this month."
      ]
    },
    {
      "cell_type": "code",
      "execution_count": 106,
      "id": "a528889f",
      "metadata": {
        "id": "a528889f"
      },
      "outputs": [],
      "source": [
        "df_show['dayOfWeek'] = df_show['date_added'].dt.day_name()"
      ]
    },
    {
      "cell_type": "code",
      "execution_count": 107,
      "id": "c4e6431f",
      "metadata": {
        "colab": {
          "base_uri": "https://localhost:8080/",
          "height": 773
        },
        "id": "c4e6431f",
        "outputId": "a003d519-e6af-467e-af91-76535f4a6846"
      },
      "outputs": [
        {
          "output_type": "execute_result",
          "data": {
            "text/plain": [
              "   show_id     type                          title  \\\n",
              "1       s2  TV Show                  Blood & Water   \n",
              "4       s5  TV Show                   Kota Factory   \n",
              "8       s9  TV Show  The Great British Baking Show   \n",
              "15     s16  TV Show              Dear White People   \n",
              "17     s18  TV Show                Falsa identidad   \n",
              "\n",
              "                                                 cast         country  \\\n",
              "1   Ama Qamata, Khosi Ngema, Gail Mabalane, Thaban...    South Africa   \n",
              "4   Mayur More, Jitendra Kumar, Ranjan Raj, Alam K...           India   \n",
              "8   Mel Giedroyc, Sue Perkins, Mary Berry, Paul Ho...  United Kingdom   \n",
              "15  Logan Browning, Brandon P. Bell, DeRon Horton,...   United States   \n",
              "17  Luis Ernesto Franco, Camila Sodi, Sergio Goyri...          Mexico   \n",
              "\n",
              "   date_added  release_year rating  duration  \\\n",
              "1  2021-09-24          2021  TV-MA         2   \n",
              "4  2021-09-24          2021  TV-MA         2   \n",
              "8  2021-09-24          2021  TV-14         9   \n",
              "15 2021-09-22          2021  TV-MA         4   \n",
              "17 2021-09-22          2020  TV-MA         2   \n",
              "\n",
              "                                            listed_in  \\\n",
              "1     International TV Shows, TV Dramas, TV Mysteries   \n",
              "4   International TV Shows, Romantic TV Shows, TV ...   \n",
              "8                        British TV Shows, Reality TV   \n",
              "15                             TV Comedies, TV Dramas   \n",
              "17  Crime TV Shows, Spanish-Language TV Shows, TV ...   \n",
              "\n",
              "                                          description rating_groups month  \\\n",
              "1   After crossing paths at a party, a Cape Town t...        adults   Sep   \n",
              "4   In a city of coaching centers known to train I...        adults   Sep   \n",
              "8   A talented batch of amateur bakers face off in...         teens   Sep   \n",
              "15  Students of color navigate the daily slights a...        adults   Sep   \n",
              "17  Strangers Diego and Isabel flee their home in ...        adults   Sep   \n",
              "\n",
              "    dayOfWeek  \n",
              "1      Friday  \n",
              "4      Friday  \n",
              "8      Friday  \n",
              "15  Wednesday  \n",
              "17  Wednesday  "
            ],
            "text/html": [
              "\n",
              "  <div id=\"df-139020eb-ce17-4873-9529-814d4fb690c0\">\n",
              "    <div class=\"colab-df-container\">\n",
              "      <div>\n",
              "<style scoped>\n",
              "    .dataframe tbody tr th:only-of-type {\n",
              "        vertical-align: middle;\n",
              "    }\n",
              "\n",
              "    .dataframe tbody tr th {\n",
              "        vertical-align: top;\n",
              "    }\n",
              "\n",
              "    .dataframe thead th {\n",
              "        text-align: right;\n",
              "    }\n",
              "</style>\n",
              "<table border=\"1\" class=\"dataframe\">\n",
              "  <thead>\n",
              "    <tr style=\"text-align: right;\">\n",
              "      <th></th>\n",
              "      <th>show_id</th>\n",
              "      <th>type</th>\n",
              "      <th>title</th>\n",
              "      <th>cast</th>\n",
              "      <th>country</th>\n",
              "      <th>date_added</th>\n",
              "      <th>release_year</th>\n",
              "      <th>rating</th>\n",
              "      <th>duration</th>\n",
              "      <th>listed_in</th>\n",
              "      <th>description</th>\n",
              "      <th>rating_groups</th>\n",
              "      <th>month</th>\n",
              "      <th>dayOfWeek</th>\n",
              "    </tr>\n",
              "  </thead>\n",
              "  <tbody>\n",
              "    <tr>\n",
              "      <th>1</th>\n",
              "      <td>s2</td>\n",
              "      <td>TV Show</td>\n",
              "      <td>Blood &amp; Water</td>\n",
              "      <td>Ama Qamata, Khosi Ngema, Gail Mabalane, Thaban...</td>\n",
              "      <td>South Africa</td>\n",
              "      <td>2021-09-24</td>\n",
              "      <td>2021</td>\n",
              "      <td>TV-MA</td>\n",
              "      <td>2</td>\n",
              "      <td>International TV Shows, TV Dramas, TV Mysteries</td>\n",
              "      <td>After crossing paths at a party, a Cape Town t...</td>\n",
              "      <td>adults</td>\n",
              "      <td>Sep</td>\n",
              "      <td>Friday</td>\n",
              "    </tr>\n",
              "    <tr>\n",
              "      <th>4</th>\n",
              "      <td>s5</td>\n",
              "      <td>TV Show</td>\n",
              "      <td>Kota Factory</td>\n",
              "      <td>Mayur More, Jitendra Kumar, Ranjan Raj, Alam K...</td>\n",
              "      <td>India</td>\n",
              "      <td>2021-09-24</td>\n",
              "      <td>2021</td>\n",
              "      <td>TV-MA</td>\n",
              "      <td>2</td>\n",
              "      <td>International TV Shows, Romantic TV Shows, TV ...</td>\n",
              "      <td>In a city of coaching centers known to train I...</td>\n",
              "      <td>adults</td>\n",
              "      <td>Sep</td>\n",
              "      <td>Friday</td>\n",
              "    </tr>\n",
              "    <tr>\n",
              "      <th>8</th>\n",
              "      <td>s9</td>\n",
              "      <td>TV Show</td>\n",
              "      <td>The Great British Baking Show</td>\n",
              "      <td>Mel Giedroyc, Sue Perkins, Mary Berry, Paul Ho...</td>\n",
              "      <td>United Kingdom</td>\n",
              "      <td>2021-09-24</td>\n",
              "      <td>2021</td>\n",
              "      <td>TV-14</td>\n",
              "      <td>9</td>\n",
              "      <td>British TV Shows, Reality TV</td>\n",
              "      <td>A talented batch of amateur bakers face off in...</td>\n",
              "      <td>teens</td>\n",
              "      <td>Sep</td>\n",
              "      <td>Friday</td>\n",
              "    </tr>\n",
              "    <tr>\n",
              "      <th>15</th>\n",
              "      <td>s16</td>\n",
              "      <td>TV Show</td>\n",
              "      <td>Dear White People</td>\n",
              "      <td>Logan Browning, Brandon P. Bell, DeRon Horton,...</td>\n",
              "      <td>United States</td>\n",
              "      <td>2021-09-22</td>\n",
              "      <td>2021</td>\n",
              "      <td>TV-MA</td>\n",
              "      <td>4</td>\n",
              "      <td>TV Comedies, TV Dramas</td>\n",
              "      <td>Students of color navigate the daily slights a...</td>\n",
              "      <td>adults</td>\n",
              "      <td>Sep</td>\n",
              "      <td>Wednesday</td>\n",
              "    </tr>\n",
              "    <tr>\n",
              "      <th>17</th>\n",
              "      <td>s18</td>\n",
              "      <td>TV Show</td>\n",
              "      <td>Falsa identidad</td>\n",
              "      <td>Luis Ernesto Franco, Camila Sodi, Sergio Goyri...</td>\n",
              "      <td>Mexico</td>\n",
              "      <td>2021-09-22</td>\n",
              "      <td>2020</td>\n",
              "      <td>TV-MA</td>\n",
              "      <td>2</td>\n",
              "      <td>Crime TV Shows, Spanish-Language TV Shows, TV ...</td>\n",
              "      <td>Strangers Diego and Isabel flee their home in ...</td>\n",
              "      <td>adults</td>\n",
              "      <td>Sep</td>\n",
              "      <td>Wednesday</td>\n",
              "    </tr>\n",
              "  </tbody>\n",
              "</table>\n",
              "</div>\n",
              "      <button class=\"colab-df-convert\" onclick=\"convertToInteractive('df-139020eb-ce17-4873-9529-814d4fb690c0')\"\n",
              "              title=\"Convert this dataframe to an interactive table.\"\n",
              "              style=\"display:none;\">\n",
              "        \n",
              "  <svg xmlns=\"http://www.w3.org/2000/svg\" height=\"24px\"viewBox=\"0 0 24 24\"\n",
              "       width=\"24px\">\n",
              "    <path d=\"M0 0h24v24H0V0z\" fill=\"none\"/>\n",
              "    <path d=\"M18.56 5.44l.94 2.06.94-2.06 2.06-.94-2.06-.94-.94-2.06-.94 2.06-2.06.94zm-11 1L8.5 8.5l.94-2.06 2.06-.94-2.06-.94L8.5 2.5l-.94 2.06-2.06.94zm10 10l.94 2.06.94-2.06 2.06-.94-2.06-.94-.94-2.06-.94 2.06-2.06.94z\"/><path d=\"M17.41 7.96l-1.37-1.37c-.4-.4-.92-.59-1.43-.59-.52 0-1.04.2-1.43.59L10.3 9.45l-7.72 7.72c-.78.78-.78 2.05 0 2.83L4 21.41c.39.39.9.59 1.41.59.51 0 1.02-.2 1.41-.59l7.78-7.78 2.81-2.81c.8-.78.8-2.07 0-2.86zM5.41 20L4 18.59l7.72-7.72 1.47 1.35L5.41 20z\"/>\n",
              "  </svg>\n",
              "      </button>\n",
              "      \n",
              "  <style>\n",
              "    .colab-df-container {\n",
              "      display:flex;\n",
              "      flex-wrap:wrap;\n",
              "      gap: 12px;\n",
              "    }\n",
              "\n",
              "    .colab-df-convert {\n",
              "      background-color: #E8F0FE;\n",
              "      border: none;\n",
              "      border-radius: 50%;\n",
              "      cursor: pointer;\n",
              "      display: none;\n",
              "      fill: #1967D2;\n",
              "      height: 32px;\n",
              "      padding: 0 0 0 0;\n",
              "      width: 32px;\n",
              "    }\n",
              "\n",
              "    .colab-df-convert:hover {\n",
              "      background-color: #E2EBFA;\n",
              "      box-shadow: 0px 1px 2px rgba(60, 64, 67, 0.3), 0px 1px 3px 1px rgba(60, 64, 67, 0.15);\n",
              "      fill: #174EA6;\n",
              "    }\n",
              "\n",
              "    [theme=dark] .colab-df-convert {\n",
              "      background-color: #3B4455;\n",
              "      fill: #D2E3FC;\n",
              "    }\n",
              "\n",
              "    [theme=dark] .colab-df-convert:hover {\n",
              "      background-color: #434B5C;\n",
              "      box-shadow: 0px 1px 3px 1px rgba(0, 0, 0, 0.15);\n",
              "      filter: drop-shadow(0px 1px 2px rgba(0, 0, 0, 0.3));\n",
              "      fill: #FFFFFF;\n",
              "    }\n",
              "  </style>\n",
              "\n",
              "      <script>\n",
              "        const buttonEl =\n",
              "          document.querySelector('#df-139020eb-ce17-4873-9529-814d4fb690c0 button.colab-df-convert');\n",
              "        buttonEl.style.display =\n",
              "          google.colab.kernel.accessAllowed ? 'block' : 'none';\n",
              "\n",
              "        async function convertToInteractive(key) {\n",
              "          const element = document.querySelector('#df-139020eb-ce17-4873-9529-814d4fb690c0');\n",
              "          const dataTable =\n",
              "            await google.colab.kernel.invokeFunction('convertToInteractive',\n",
              "                                                     [key], {});\n",
              "          if (!dataTable) return;\n",
              "\n",
              "          const docLinkHtml = 'Like what you see? Visit the ' +\n",
              "            '<a target=\"_blank\" href=https://colab.research.google.com/notebooks/data_table.ipynb>data table notebook</a>'\n",
              "            + ' to learn more about interactive tables.';\n",
              "          element.innerHTML = '';\n",
              "          dataTable['output_type'] = 'display_data';\n",
              "          await google.colab.output.renderOutput(dataTable, element);\n",
              "          const docLink = document.createElement('div');\n",
              "          docLink.innerHTML = docLinkHtml;\n",
              "          element.appendChild(docLink);\n",
              "        }\n",
              "      </script>\n",
              "    </div>\n",
              "  </div>\n",
              "  "
            ]
          },
          "metadata": {},
          "execution_count": 107
        }
      ],
      "source": [
        "df_show.head()"
      ]
    },
    {
      "cell_type": "code",
      "execution_count": 108,
      "id": "6c29718a",
      "metadata": {
        "colab": {
          "base_uri": "https://localhost:8080/"
        },
        "id": "6c29718a",
        "outputId": "f0cc969c-d37d-4ee0-a783-622364a770e2"
      },
      "outputs": [
        {
          "output_type": "execute_result",
          "data": {
            "text/plain": [
              "Friday       701\n",
              "Tuesday      281\n",
              "Thursday     273\n",
              "Wednesday    237\n",
              "Saturday     214\n",
              "Monday       164\n",
              "Sunday       143\n",
              "Name: dayOfWeek, dtype: int64"
            ]
          },
          "metadata": {},
          "execution_count": 108
        }
      ],
      "source": [
        "df_show[\"dayOfWeek\"].value_counts()"
      ]
    },
    {
      "cell_type": "code",
      "execution_count": 109,
      "id": "325a4daa",
      "metadata": {
        "colab": {
          "base_uri": "https://localhost:8080/",
          "height": 269
        },
        "id": "325a4daa",
        "outputId": "af056498-917d-4c53-c710-a920d8740e48"
      },
      "outputs": [
        {
          "output_type": "execute_result",
          "data": {
            "text/plain": [
              "         Day  count\n",
              "0     Friday    701\n",
              "1    Tuesday    281\n",
              "2   Thursday    273\n",
              "3  Wednesday    237\n",
              "4   Saturday    214\n",
              "5     Monday    164\n",
              "6     Sunday    143"
            ],
            "text/html": [
              "\n",
              "  <div id=\"df-35e92fa4-1e75-47bb-964d-0ad58318798e\">\n",
              "    <div class=\"colab-df-container\">\n",
              "      <div>\n",
              "<style scoped>\n",
              "    .dataframe tbody tr th:only-of-type {\n",
              "        vertical-align: middle;\n",
              "    }\n",
              "\n",
              "    .dataframe tbody tr th {\n",
              "        vertical-align: top;\n",
              "    }\n",
              "\n",
              "    .dataframe thead th {\n",
              "        text-align: right;\n",
              "    }\n",
              "</style>\n",
              "<table border=\"1\" class=\"dataframe\">\n",
              "  <thead>\n",
              "    <tr style=\"text-align: right;\">\n",
              "      <th></th>\n",
              "      <th>Day</th>\n",
              "      <th>count</th>\n",
              "    </tr>\n",
              "  </thead>\n",
              "  <tbody>\n",
              "    <tr>\n",
              "      <th>0</th>\n",
              "      <td>Friday</td>\n",
              "      <td>701</td>\n",
              "    </tr>\n",
              "    <tr>\n",
              "      <th>1</th>\n",
              "      <td>Tuesday</td>\n",
              "      <td>281</td>\n",
              "    </tr>\n",
              "    <tr>\n",
              "      <th>2</th>\n",
              "      <td>Thursday</td>\n",
              "      <td>273</td>\n",
              "    </tr>\n",
              "    <tr>\n",
              "      <th>3</th>\n",
              "      <td>Wednesday</td>\n",
              "      <td>237</td>\n",
              "    </tr>\n",
              "    <tr>\n",
              "      <th>4</th>\n",
              "      <td>Saturday</td>\n",
              "      <td>214</td>\n",
              "    </tr>\n",
              "    <tr>\n",
              "      <th>5</th>\n",
              "      <td>Monday</td>\n",
              "      <td>164</td>\n",
              "    </tr>\n",
              "    <tr>\n",
              "      <th>6</th>\n",
              "      <td>Sunday</td>\n",
              "      <td>143</td>\n",
              "    </tr>\n",
              "  </tbody>\n",
              "</table>\n",
              "</div>\n",
              "      <button class=\"colab-df-convert\" onclick=\"convertToInteractive('df-35e92fa4-1e75-47bb-964d-0ad58318798e')\"\n",
              "              title=\"Convert this dataframe to an interactive table.\"\n",
              "              style=\"display:none;\">\n",
              "        \n",
              "  <svg xmlns=\"http://www.w3.org/2000/svg\" height=\"24px\"viewBox=\"0 0 24 24\"\n",
              "       width=\"24px\">\n",
              "    <path d=\"M0 0h24v24H0V0z\" fill=\"none\"/>\n",
              "    <path d=\"M18.56 5.44l.94 2.06.94-2.06 2.06-.94-2.06-.94-.94-2.06-.94 2.06-2.06.94zm-11 1L8.5 8.5l.94-2.06 2.06-.94-2.06-.94L8.5 2.5l-.94 2.06-2.06.94zm10 10l.94 2.06.94-2.06 2.06-.94-2.06-.94-.94-2.06-.94 2.06-2.06.94z\"/><path d=\"M17.41 7.96l-1.37-1.37c-.4-.4-.92-.59-1.43-.59-.52 0-1.04.2-1.43.59L10.3 9.45l-7.72 7.72c-.78.78-.78 2.05 0 2.83L4 21.41c.39.39.9.59 1.41.59.51 0 1.02-.2 1.41-.59l7.78-7.78 2.81-2.81c.8-.78.8-2.07 0-2.86zM5.41 20L4 18.59l7.72-7.72 1.47 1.35L5.41 20z\"/>\n",
              "  </svg>\n",
              "      </button>\n",
              "      \n",
              "  <style>\n",
              "    .colab-df-container {\n",
              "      display:flex;\n",
              "      flex-wrap:wrap;\n",
              "      gap: 12px;\n",
              "    }\n",
              "\n",
              "    .colab-df-convert {\n",
              "      background-color: #E8F0FE;\n",
              "      border: none;\n",
              "      border-radius: 50%;\n",
              "      cursor: pointer;\n",
              "      display: none;\n",
              "      fill: #1967D2;\n",
              "      height: 32px;\n",
              "      padding: 0 0 0 0;\n",
              "      width: 32px;\n",
              "    }\n",
              "\n",
              "    .colab-df-convert:hover {\n",
              "      background-color: #E2EBFA;\n",
              "      box-shadow: 0px 1px 2px rgba(60, 64, 67, 0.3), 0px 1px 3px 1px rgba(60, 64, 67, 0.15);\n",
              "      fill: #174EA6;\n",
              "    }\n",
              "\n",
              "    [theme=dark] .colab-df-convert {\n",
              "      background-color: #3B4455;\n",
              "      fill: #D2E3FC;\n",
              "    }\n",
              "\n",
              "    [theme=dark] .colab-df-convert:hover {\n",
              "      background-color: #434B5C;\n",
              "      box-shadow: 0px 1px 3px 1px rgba(0, 0, 0, 0.15);\n",
              "      filter: drop-shadow(0px 1px 2px rgba(0, 0, 0, 0.3));\n",
              "      fill: #FFFFFF;\n",
              "    }\n",
              "  </style>\n",
              "\n",
              "      <script>\n",
              "        const buttonEl =\n",
              "          document.querySelector('#df-35e92fa4-1e75-47bb-964d-0ad58318798e button.colab-df-convert');\n",
              "        buttonEl.style.display =\n",
              "          google.colab.kernel.accessAllowed ? 'block' : 'none';\n",
              "\n",
              "        async function convertToInteractive(key) {\n",
              "          const element = document.querySelector('#df-35e92fa4-1e75-47bb-964d-0ad58318798e');\n",
              "          const dataTable =\n",
              "            await google.colab.kernel.invokeFunction('convertToInteractive',\n",
              "                                                     [key], {});\n",
              "          if (!dataTable) return;\n",
              "\n",
              "          const docLinkHtml = 'Like what you see? Visit the ' +\n",
              "            '<a target=\"_blank\" href=https://colab.research.google.com/notebooks/data_table.ipynb>data table notebook</a>'\n",
              "            + ' to learn more about interactive tables.';\n",
              "          element.innerHTML = '';\n",
              "          dataTable['output_type'] = 'display_data';\n",
              "          await google.colab.output.renderOutput(dataTable, element);\n",
              "          const docLink = document.createElement('div');\n",
              "          docLink.innerHTML = docLinkHtml;\n",
              "          element.appendChild(docLink);\n",
              "        }\n",
              "      </script>\n",
              "    </div>\n",
              "  </div>\n",
              "  "
            ]
          },
          "metadata": {},
          "execution_count": 109
        }
      ],
      "source": [
        "show_dayOfWeek = df_show[\"dayOfWeek\"].value_counts().reset_index().rename(columns = {'index' : 'Day', 'dayOfWeek' : 'count'})\n",
        "show_dayOfWeek"
      ]
    },
    {
      "cell_type": "code",
      "execution_count": 110,
      "id": "8a8b31d8",
      "metadata": {
        "colab": {
          "base_uri": "https://localhost:8080/",
          "height": 296
        },
        "id": "8a8b31d8",
        "outputId": "3f0162de-b93c-4e3d-e10a-876cef85e38c"
      },
      "outputs": [
        {
          "output_type": "execute_result",
          "data": {
            "text/plain": [
              "<matplotlib.axes._subplots.AxesSubplot at 0x7fb6e93977c0>"
            ]
          },
          "metadata": {},
          "execution_count": 110
        },
        {
          "output_type": "display_data",
          "data": {
            "text/plain": [
              "<Figure size 432x288 with 1 Axes>"
            ],
            "image/png": "[encoded data removed]"
          },
          "metadata": {
            "needs_background": "light"
          }
        }
      ],
      "source": [
        "sns.barplot(data=show_dayOfWeek, x=\"Day\", y=\"count\")"
      ]
    },
    {
      "cell_type": "markdown",
      "id": "1f335d6c",
      "metadata": {
        "id": "1f335d6c"
      },
      "source": [
        "Most directors like to launch their TV shows on Friday, because of the **weekends**\n",
        "Incrasing the possibility of high viewership during Saturday and Sunday"
      ]
    },
    {
      "cell_type": "markdown",
      "id": "f481764f",
      "metadata": {
        "id": "f481764f"
      },
      "source": [
        "***\n",
        "### Insights and Recommendation "
      ]
    },
    {
      "cell_type": "markdown",
      "id": "8794a1ea",
      "metadata": {
        "id": "8794a1ea"
      },
      "source": [
        "1. There are more movies than TV shows on Netflix, but on checking the last 10 years' trend we found people are liking TV Shows more and in the year 2021 more TV Shows were released than Movies. \n",
        "**Recommendation:** Netflix should try to focus more on the TV Shows, as people are interested in watching them\n",
        "\n",
        "2. Short movies(movies under 30 mins): We can get multiple movies under this category. Most of the movies in this category are specifically targeted at kids.<br>\n",
        "**Recommendation:** If any director is making kids-specific movies they should keep the movie for around 30 mins.\n",
        "\n",
        "3. Long movies(movies above 180 mins): There are few movies on Netflix of more than 3+ hrs mostly targeting teens and adult audiences. Few Indian directors are fond of making long movies and Ashutosh Gowariker has topped the charts with the maximum number of 3hrs+ duration od movies.<br>\n",
        "**Recommendation:** Indian audience is interested in watching long movies and specifically if it is from Ashutosh\n",
        "Gowariker, Karan Johar, Sooraj R. Barjatya and Farhan Akhtar\n",
        "\n",
        "4. There is a major increase in the number of movies released in a year in the past 30 years. There were around 16 movies were released in 1990 and in the year 2020 this number has reached 409. Most of the Movies released are in the month of **Oct,Dec and Jan** and on **Friday** because of the holiday and seasonality spirit.\n",
        "\n",
        "5. The United States has produced the most number of movies on Netflix. Followed by India and United Kingdom by a big margin. US has produced more movies than all other top four countries combined.\n",
        "**Recommendation:** People like to watch movies produced in United States more. We can add more movies that are being produced in United States and during Friday to get more and more viewerships\n",
        "\n",
        "6. Most liked Indian directors on Netflix are David Dhawan and Anurag Kashyap\n",
        "**Recommendation:** There are high chances if the movies are directed by David Dhawan and Anurag Kashyap, people will like it in India. \n",
        "\n",
        "7. Most liked United States directors on Netflix are Jay Karas and Marcus Raboy\n",
        "**Recommendation:** There are high chances if the movies are directed by Jay Karas and Marcus Raboy, people will like it in United States.\n",
        "\n",
        "8. Most liked genres for movies on Netflix are International Movies, Dramas, and Comedies\n",
        "\n",
        "9. Viewers love these genres when the movie is directed by Cathy Garcia-Molina, Youssef Chahine, and David Dhawan for respective genres.\n",
        "**Recommendation:** People like to watch movies on International Movies, Dramas, and Comedies specially when it is directed by Cathy Garcia-Molina, Youssef Chahine, and David Dhawan.\n",
        "\n",
        "10. Viewers like to watch movies with these combinations of directors and cast<br>\n",
        "David Dhawan - Anupam Kher<br>\n",
        "Anurag Kashyap - Vicky Kaushal, Nawazuddin Siddiqui<br>\n",
        "Umesh Mehra - Gulshan Grover, Mithun Chakraborty<br>\n",
        "Dibakar Banerjee - Ranvir Shorey<br>\n",
        "Ram Gopal Varma - Ajay Devgn<br>\n",
        "**Recommendation:** People like to watch movies of above combinations of directors and actors\n",
        "\n",
        "11. Movie Genre - International Movies, Dramas, and Comedies are loved by the Indian audience on the other hand people from the United States like more of Dramas, Comedies, and Action & Adventure\n",
        "**Recommendation:** Indian directors can target genres such as International Movies, Dramas, and Comedies for there movies as there is high possibility people might like this.\n",
        "\n",
        "12. Viewers, in general, prefer not very long TV shows, they prefer to watch TV shows of 1-5 seasons\n",
        "**Recommendation:** Directors should keep this on mind while making TV shows, that most people like to watch shorter TV shows.\n",
        "\n",
        "13. Longest TV show on Netflix is Grey's Anatomy with 17 seasons\n",
        "\n",
        "14. We can see, in recent times TV shows rated for adults are becoming more popular and directors are preferring to target adults as their audience than kids or teens\n",
        "**Recommendation:** TV shows rated for adult are becoming more popular than for teens or kids. Netflix can add more shows rated for adults \n",
        "\n",
        "15. People of the United States and the United Kingdom like to watch TV shows more than other countries\n",
        "\n",
        "16. Top watched TV show genres in Japan and South Korea are International TV Shows and Anime Series. 4 of the top 6 genres in Japan and South Korea are rated for teens.\n",
        "**Recommendation:** Japan and South Korea prefers watching International TV shows and Anime Series\n",
        "\n",
        "17. Most of the TV show genres in the United States and the United Kingdom are targeted at adults. Their top genres are TV Dramas, TV Comedies, and Crime TV Shows\n",
        "**Recommendation:** United States and United Kingdom prefers watching dramas and TV comedies\n",
        "\n",
        "18. Most directors like to launch their TV shows in the month of December\n",
        "**Recommendation:** Directors prefer to launch their TV shows in the month of December, because of the holiday season there is a possibility of high viewership in this month."
      ]
    },
    {
      "cell_type": "code",
      "execution_count": 110,
      "id": "c26015ad",
      "metadata": {
        "id": "c26015ad"
      },
      "outputs": [],
      "source": []
    }
  ],
  "metadata": {
    "kernelspec": {
      "display_name": "Python 3 (ipykernel)",
      "language": "python",
      "name": "python3"
    },
    "language_info": {
      "codemirror_mode": {
        "name": "ipython",
        "version": 3
      },
      "file_extension": ".py",
      "mimetype": "text/x-python",
      "name": "python",
      "nbconvert_exporter": "python",
      "pygments_lexer": "ipython3",
      "version": "3.9.12"
    },
    "colab": {
      "provenance": [],
      "include_colab_link": true
    }
  },
  "nbformat": 4,
  "nbformat_minor": 5
}